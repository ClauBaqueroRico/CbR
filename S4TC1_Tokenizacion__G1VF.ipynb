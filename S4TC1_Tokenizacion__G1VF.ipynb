{
 "cells": [
  {
   "cell_type": "markdown",
   "metadata": {
    "id": "WsT3CMvEbqmO"
   },
   "source": [
    "![image info](https://raw.githubusercontent.com/albahnsen/MIAD_ML_and_NLP/main/images/banner_1.png)"
   ]
  },
  {
   "cell_type": "markdown",
   "metadata": {
    "id": "2pZh8nzpbqmR"
   },
   "source": [
    "# Taller: Tokenización de textos  \n",
    "\n",
    "En este taller podrán poner en práctica sus conocimientos sobre preprocesamiento de texto (tokenización). El taller está constituido por 5 puntos, en los cuales deberan seguir las intrucciones de cada numeral para su desarrollo."
   ]
  },
  {
   "cell_type": "markdown",
   "metadata": {
    "id": "HypeLPPPbqmS"
   },
   "source": [
    "## Datos detección de toxicidad en comentarios\n",
    "\n",
    "En este taller se usará el conjunto de datos de detección de toxicidad en comentarios de la base de datos de Kaggle. Cada observación es un comentario que tiene como variable objetivo (target) la probabilidad de ser un comentario tóxico. El objetivo es predecir la toxicidad de cada comentario. Para más detalles pueden visitar el siguiente enlace: [datos](https://www.kaggle.com/c/jigsaw-unintended-bias-in-toxicity-classification/data)."
   ]
  },
  {
   "cell_type": "code",
   "execution_count": 31,
   "metadata": {
    "id": "J1GViBuzbqmS"
   },
   "outputs": [],
   "source": [
    "import warnings\n",
    "warnings.filterwarnings('ignore')"
   ]
  },
  {
   "cell_type": "code",
   "execution_count": 32,
   "metadata": {
    "colab": {
     "base_uri": "https://localhost:8080/"
    },
    "id": "N9RVbPBFbqmU",
    "outputId": "c90036db-f9bc-46cb-dbaa-4ad80afd376b"
   },
   "outputs": [
    {
     "name": "stdout",
     "output_type": "stream",
     "text": [
      "Looking in indexes: https://pypi.org/simple, https://us-python.pkg.dev/colab-wheels/public/simple/\n",
      "Requirement already satisfied: nltk in /usr/local/lib/python3.10/dist-packages (3.8.1)\n",
      "Requirement already satisfied: joblib in /usr/local/lib/python3.10/dist-packages (from nltk) (1.2.0)\n",
      "Requirement already satisfied: click in /usr/local/lib/python3.10/dist-packages (from nltk) (8.1.3)\n",
      "Requirement already satisfied: regex>=2021.8.3 in /usr/local/lib/python3.10/dist-packages (from nltk) (2022.10.31)\n",
      "Requirement already satisfied: tqdm in /usr/local/lib/python3.10/dist-packages (from nltk) (4.65.0)\n"
     ]
    },
    {
     "name": "stderr",
     "output_type": "stream",
     "text": [
      "[nltk_data] Downloading package stopwords to /root/nltk_data...\n",
      "[nltk_data]   Package stopwords is already up-to-date!\n",
      "[nltk_data] Downloading package wordnet to /root/nltk_data...\n",
      "[nltk_data]   Package wordnet is already up-to-date!\n"
     ]
    },
    {
     "data": {
      "text/plain": [
       "True"
      ]
     },
     "execution_count": 32,
     "metadata": {},
     "output_type": "execute_result"
    }
   ],
   "source": [
    "!pip install nltk\n",
    "import nltk\n",
    "nltk.download('stopwords')\n",
    "nltk.download('wordnet')"
   ]
  },
  {
   "cell_type": "code",
   "execution_count": 33,
   "metadata": {
    "id": "vsOn1F6ubqmV"
   },
   "outputs": [],
   "source": [
    "# Importación librerías\n",
    "import pandas as pd\n",
    "import numpy as np\n",
    "import xgboost as xgb\n",
    "import scipy as sp\n",
    "import nltk\n",
    "import re\n",
    "import pandas as pd\n",
    "from sklearn.feature_extraction.text import CountVectorizer\n",
    "from sklearn.model_selection import train_test_split\n",
    "from sklearn.linear_model import LogisticRegression\n",
    "from sklearn.ensemble import RandomForestClassifier\n",
    "from sklearn.ensemble import RandomForestRegressor\n",
    "from nltk.corpus import stopwords\n",
    "from nltk.stem import PorterStemmer, WordNetLemmatizer\n",
    "from sklearn.model_selection import train_test_split, cross_val_score\n",
    "from sklearn.feature_extraction.text import CountVectorizer, TfidfVectorizer\n",
    "from sklearn.metrics import mean_squared_error, r2_score, mean_absolute_error, accuracy_score, f1_score\n",
    "import matplotlib.pyplot as plt\n",
    "from sklearn import metrics\n",
    "%matplotlib inline"
   ]
  },
  {
   "cell_type": "code",
   "execution_count": 34,
   "metadata": {
    "colab": {
     "base_uri": "https://localhost:8080/",
     "height": 206
    },
    "id": "tQ-RE0ibbqmW",
    "outputId": "3d0a638e-8864-43c0-b0ad-62a4f08b8602"
   },
   "outputs": [
    {
     "data": {
      "text/html": [
       "\n",
       "  <div id=\"df-e5c933c2-2656-4cd9-8283-8b48b77066e0\">\n",
       "    <div class=\"colab-df-container\">\n",
       "      <div>\n",
       "<style scoped>\n",
       "    .dataframe tbody tr th:only-of-type {\n",
       "        vertical-align: middle;\n",
       "    }\n",
       "\n",
       "    .dataframe tbody tr th {\n",
       "        vertical-align: top;\n",
       "    }\n",
       "\n",
       "    .dataframe thead th {\n",
       "        text-align: right;\n",
       "    }\n",
       "</style>\n",
       "<table border=\"1\" class=\"dataframe\">\n",
       "  <thead>\n",
       "    <tr style=\"text-align: right;\">\n",
       "      <th></th>\n",
       "      <th>id</th>\n",
       "      <th>comment_text</th>\n",
       "      <th>target</th>\n",
       "    </tr>\n",
       "  </thead>\n",
       "  <tbody>\n",
       "    <tr>\n",
       "      <th>0</th>\n",
       "      <td>6101457</td>\n",
       "      <td>What are you talking about? What group do Pete...</td>\n",
       "      <td>0.0</td>\n",
       "    </tr>\n",
       "    <tr>\n",
       "      <th>1</th>\n",
       "      <td>5342103</td>\n",
       "      <td>NO!, Let him, we need a Conservative government.</td>\n",
       "      <td>0.0</td>\n",
       "    </tr>\n",
       "    <tr>\n",
       "      <th>2</th>\n",
       "      <td>743361</td>\n",
       "      <td>Perhaps he took the \"power out of the Cardinal...</td>\n",
       "      <td>0.2</td>\n",
       "    </tr>\n",
       "    <tr>\n",
       "      <th>3</th>\n",
       "      <td>551008</td>\n",
       "      <td>As always, yours is dripping with sarcasm, whi...</td>\n",
       "      <td>0.0</td>\n",
       "    </tr>\n",
       "    <tr>\n",
       "      <th>4</th>\n",
       "      <td>865998</td>\n",
       "      <td>The dirty little secret is that the price rang...</td>\n",
       "      <td>0.3</td>\n",
       "    </tr>\n",
       "  </tbody>\n",
       "</table>\n",
       "</div>\n",
       "      <button class=\"colab-df-convert\" onclick=\"convertToInteractive('df-e5c933c2-2656-4cd9-8283-8b48b77066e0')\"\n",
       "              title=\"Convert this dataframe to an interactive table.\"\n",
       "              style=\"display:none;\">\n",
       "        \n",
       "  <svg xmlns=\"http://www.w3.org/2000/svg\" height=\"24px\"viewBox=\"0 0 24 24\"\n",
       "       width=\"24px\">\n",
       "    <path d=\"M0 0h24v24H0V0z\" fill=\"none\"/>\n",
       "    <path d=\"M18.56 5.44l.94 2.06.94-2.06 2.06-.94-2.06-.94-.94-2.06-.94 2.06-2.06.94zm-11 1L8.5 8.5l.94-2.06 2.06-.94-2.06-.94L8.5 2.5l-.94 2.06-2.06.94zm10 10l.94 2.06.94-2.06 2.06-.94-2.06-.94-.94-2.06-.94 2.06-2.06.94z\"/><path d=\"M17.41 7.96l-1.37-1.37c-.4-.4-.92-.59-1.43-.59-.52 0-1.04.2-1.43.59L10.3 9.45l-7.72 7.72c-.78.78-.78 2.05 0 2.83L4 21.41c.39.39.9.59 1.41.59.51 0 1.02-.2 1.41-.59l7.78-7.78 2.81-2.81c.8-.78.8-2.07 0-2.86zM5.41 20L4 18.59l7.72-7.72 1.47 1.35L5.41 20z\"/>\n",
       "  </svg>\n",
       "      </button>\n",
       "      \n",
       "  <style>\n",
       "    .colab-df-container {\n",
       "      display:flex;\n",
       "      flex-wrap:wrap;\n",
       "      gap: 12px;\n",
       "    }\n",
       "\n",
       "    .colab-df-convert {\n",
       "      background-color: #E8F0FE;\n",
       "      border: none;\n",
       "      border-radius: 50%;\n",
       "      cursor: pointer;\n",
       "      display: none;\n",
       "      fill: #1967D2;\n",
       "      height: 32px;\n",
       "      padding: 0 0 0 0;\n",
       "      width: 32px;\n",
       "    }\n",
       "\n",
       "    .colab-df-convert:hover {\n",
       "      background-color: #E2EBFA;\n",
       "      box-shadow: 0px 1px 2px rgba(60, 64, 67, 0.3), 0px 1px 3px 1px rgba(60, 64, 67, 0.15);\n",
       "      fill: #174EA6;\n",
       "    }\n",
       "\n",
       "    [theme=dark] .colab-df-convert {\n",
       "      background-color: #3B4455;\n",
       "      fill: #D2E3FC;\n",
       "    }\n",
       "\n",
       "    [theme=dark] .colab-df-convert:hover {\n",
       "      background-color: #434B5C;\n",
       "      box-shadow: 0px 1px 3px 1px rgba(0, 0, 0, 0.15);\n",
       "      filter: drop-shadow(0px 1px 2px rgba(0, 0, 0, 0.3));\n",
       "      fill: #FFFFFF;\n",
       "    }\n",
       "  </style>\n",
       "\n",
       "      <script>\n",
       "        const buttonEl =\n",
       "          document.querySelector('#df-e5c933c2-2656-4cd9-8283-8b48b77066e0 button.colab-df-convert');\n",
       "        buttonEl.style.display =\n",
       "          google.colab.kernel.accessAllowed ? 'block' : 'none';\n",
       "\n",
       "        async function convertToInteractive(key) {\n",
       "          const element = document.querySelector('#df-e5c933c2-2656-4cd9-8283-8b48b77066e0');\n",
       "          const dataTable =\n",
       "            await google.colab.kernel.invokeFunction('convertToInteractive',\n",
       "                                                     [key], {});\n",
       "          if (!dataTable) return;\n",
       "\n",
       "          const docLinkHtml = 'Like what you see? Visit the ' +\n",
       "            '<a target=\"_blank\" href=https://colab.research.google.com/notebooks/data_table.ipynb>data table notebook</a>'\n",
       "            + ' to learn more about interactive tables.';\n",
       "          element.innerHTML = '';\n",
       "          dataTable['output_type'] = 'display_data';\n",
       "          await google.colab.output.renderOutput(dataTable, element);\n",
       "          const docLink = document.createElement('div');\n",
       "          docLink.innerHTML = docLinkHtml;\n",
       "          element.appendChild(docLink);\n",
       "        }\n",
       "      </script>\n",
       "    </div>\n",
       "  </div>\n",
       "  "
      ],
      "text/plain": [
       "        id                                       comment_text  target\n",
       "0  6101457  What are you talking about? What group do Pete...     0.0\n",
       "1  5342103   NO!, Let him, we need a Conservative government.     0.0\n",
       "2   743361  Perhaps he took the \"power out of the Cardinal...     0.2\n",
       "3   551008  As always, yours is dripping with sarcasm, whi...     0.0\n",
       "4   865998  The dirty little secret is that the price rang...     0.3"
      ]
     },
     "execution_count": 34,
     "metadata": {},
     "output_type": "execute_result"
    }
   ],
   "source": [
    "# Carga de datos de archivos .csv\n",
    "df = pd.read_csv('https://raw.githubusercontent.com/albahnsen/MIAD_ML_and_NLP/main/datasets/Toxicity.zip')\n",
    "df = df[['id','comment_text', 'target']]\n",
    "df.head()"
   ]
  },
  {
   "cell_type": "code",
   "execution_count": 35,
   "metadata": {
    "colab": {
     "base_uri": "https://localhost:8080/"
    },
    "id": "dOnvwx7_bqmW",
    "outputId": "658755ae-9573-4962-8b46-d0108fb39c54"
   },
   "outputs": [
    {
     "data": {
      "text/plain": [
       "(541462, 3)"
      ]
     },
     "execution_count": 35,
     "metadata": {},
     "output_type": "execute_result"
    }
   ],
   "source": [
    "df.shape"
   ]
  },
  {
   "cell_type": "markdown",
   "metadata": {
    "id": "glAt2FYJgmau"
   },
   "source": [
    "### Seleccion o Filtro Inicial de Variables por IDENTIDAD, en la variable 'comment_text'\n",
    "\n",
    "Para el ejercicio se realiza la identificaci{on de palabras claves para la clasificación de toxicidad; y de acuerdo con lo indicado en la competencia Kaggle desde donde se extraen los datos; \"Además, se ha etiquetado un subconjunto de comentarios con una variedad de atributos de identidad, que representan las identidades que se mencionan en el comentario. Las columnas correspondientes a los atributos de identidad se enumeran a continuación. Solo las identidades con más de 500 ejemplos en el conjunto de prueba (público y privado combinados) se incluirán en el cálculo de la evaluación. Estas identidades se muestran en negrita.\"\n",
    "\n",
    "Estas columnas de identidad se utilizan a menudo en tareas de procesamiento de lenguaje natural (NLP) relacionadas con la clasificación de toxicidad o la detección de sesgos, donde el objetivo es identificar si un comentario de texto contiene lenguaje ofensivo, dañino o discriminatorio hacia una característica demográfica o personal en particular."
   ]
  },
  {
   "cell_type": "code",
   "execution_count": 36,
   "metadata": {
    "id": "Tvdxm55gcbKP"
   },
   "outputs": [],
   "source": [
    "Indentity_columns=[\"male\",\"female\",\"homosexual_gay_or_lesbian\",\"christian\",\n",
    "                   \"jewish\",\"muslim\",\"black\",\"white\",\"psychiatric_or_mental_illnes\",]"
   ]
  },
  {
   "cell_type": "code",
   "execution_count": 37,
   "metadata": {
    "colab": {
     "base_uri": "https://localhost:8080/"
    },
    "id": "inE_vhwYcbUk",
    "outputId": "97f475fd-dba3-4a89-90f5-5cd98153fa3b"
   },
   "outputs": [
    {
     "data": {
      "text/plain": [
       "(17500, 3)"
      ]
     },
     "execution_count": 37,
     "metadata": {},
     "output_type": "execute_result"
    }
   ],
   "source": [
    "len(Indentity_columns)\n",
    "\n",
    "df_filtered= df[df['comment_text'].str.contains('|'.join(Indentity_columns))]\n",
    "df=df_filtered\n",
    "df.shape"
   ]
  },
  {
   "cell_type": "code",
   "execution_count": 38,
   "metadata": {
    "colab": {
     "base_uri": "https://localhost:8080/",
     "height": 447
    },
    "id": "NFJqwiVnbqmX",
    "outputId": "371e4cc7-57b7-4867-a7b4-1b9b3a7a1612"
   },
   "outputs": [
    {
     "data": {
      "text/plain": [
       "<Axes: >"
      ]
     },
     "execution_count": 38,
     "metadata": {},
     "output_type": "execute_result"
    },
    {
     "data": {
      "image/png": "[encoded data removed]",
      "text/plain": [
       "<Figure size 640x480 with 1 Axes>"
      ]
     },
     "metadata": {},
     "output_type": "display_data"
    }
   ],
   "source": [
    "# Impresión histograma de variable de interés (y)\n",
    "df.target.hist()"
   ]
  },
  {
   "cell_type": "code",
   "execution_count": 39,
   "metadata": {
    "colab": {
     "base_uri": "https://localhost:8080/"
    },
    "id": "RmTK_j24bqmX",
    "outputId": "e21f1dc0-6008-43c6-db01-a504be6e8200"
   },
   "outputs": [
    {
     "data": {
      "text/plain": [
       "count    17500.000000\n",
       "mean         0.235671\n",
       "std          0.243310\n",
       "min          0.000000\n",
       "25%          0.000000\n",
       "50%          0.200000\n",
       "75%          0.400000\n",
       "max          1.000000\n",
       "Name: target, dtype: float64"
      ]
     },
     "execution_count": 39,
     "metadata": {},
     "output_type": "execute_result"
    }
   ],
   "source": [
    "# Separación de variable de interés (y)\n",
    "y = df.target\n",
    "y.describe()"
   ]
  },
  {
   "cell_type": "code",
   "execution_count": 40,
   "metadata": {
    "colab": {
     "base_uri": "https://localhost:8080/"
    },
    "id": "12n5FKzqbqmY",
    "outputId": "639f4825-a1ad-4323-841d-cee3c8660bf4"
   },
   "outputs": [
    {
     "name": "stdout",
     "output_type": "stream",
     "text": [
      "46     Your aspirations for our city are well-known. ...\n",
      "68              And, being white, they're dancing badly.\n",
      "102    eric - the fact that millions of disadvantaged...\n",
      "109    \"Haole science\", claims of bigotry and racism,...\n",
      "135    The shooter was a black cop and the felon was ...\n",
      "Name: comment_text, dtype: object\n",
      "(17500,)\n"
     ]
    }
   ],
   "source": [
    "# Separación de variables predictoras (X), solo se considera el texto de la noticia\n",
    "X = df.comment_text\n",
    "print(X.head())\n",
    "print(X.shape)"
   ]
  },
  {
   "cell_type": "code",
   "execution_count": 41,
   "metadata": {
    "id": "Ltnh4l0ObqmY"
   },
   "outputs": [],
   "source": [
    "stemmer = PorterStemmer()\n",
    "lemmatizer = WordNetLemmatizer()\n",
    "\n",
    "def preprocess_text(text):\n",
    "    words = text.split()\n",
    "    stemmed_words = [stemmer.stem(word) for word in words]\n",
    "    lemmatized_words = [lemmatizer.lemmatize(word) for word in stemmed_words]\n",
    "    text = ' '.join(lemmatized_words)\n",
    "    text = text.lower()\n",
    "    text = re.sub(r'[^a-zA-Z ]+', '', text)\n",
    "    return text\n",
    "\n",
    "X = X.apply(lambda x: preprocess_text(x))"
   ]
  },
  {
   "cell_type": "markdown",
   "metadata": {
    "id": "nW6N3WuJi1ok"
   },
   "source": [
    "### Preprocesamiento de Base Filtrada 'df'\n",
    "\n",
    "La función preprocess_text toma una cadena de texto como entrada y realiza las siguientes transformaciones:\n",
    "\n",
    "Divide la cadena de texto en una lista de palabras usando el método split().\n",
    "\n",
    "El algoritmo de stemming es un proceso que reduce las palabras a su forma raíz, eliminando los sufijos y prefijos, para normalizar los datos de texto.\n",
    "\n",
    "El algoritmo de lematización es un proceso que reduce las palabras a su forma base o lema, considerando la categoría gramatical de cada palabra, para normalizar aún más los datos de texto.\n",
    "\n",
    "Se unen las palabras lematizadas de nuevo en una cadena de texto utilizando el método join().\n",
    "\n",
    "Se convierte la cadena de texto resultante a minúsculas utilizando el método lower().\n",
    "\n",
    "Se eliminan todos los caracteres que no sean letras usando el método sub()de la biblioteca re.\n",
    "\n",
    "El código finalmente aplica la función preprocess_text a cada elemento de la Serie X mediante el método apply()y reemplaza la Serie original con la Serie preprocesada."
   ]
  },
  {
   "cell_type": "code",
   "execution_count": 42,
   "metadata": {
    "id": "PBsHLOshbqmZ"
   },
   "outputs": [],
   "source": [
    "# Separación de datos en set de entrenamiento y test\n",
    "X_train, X_test, y_train, y_test = train_test_split(X, y, test_size=0.33, random_state=42)"
   ]
  },
  {
   "cell_type": "code",
   "execution_count": 43,
   "metadata": {
    "colab": {
     "base_uri": "https://localhost:8080/"
    },
    "id": "LM3Cu0nJbqmZ",
    "outputId": "a017d202-2fbb-4b50-c203-64b853b94d0e"
   },
   "outputs": [
    {
     "data": {
      "text/plain": [
       "403874                              the shark were all male\n",
       "177729    you just describ whi immigr is so benefici and...\n",
       "298103    we now have two cats after have had three solo...\n",
       "114854    ofcourse your ideolog is weapon  is a combin o...\n",
       "513614         layla whi do you hate muslims and christians\n",
       "Name: comment_text, dtype: object"
      ]
     },
     "execution_count": 43,
     "metadata": {},
     "output_type": "execute_result"
    }
   ],
   "source": [
    "X_train.head()"
   ]
  },
  {
   "cell_type": "code",
   "execution_count": 44,
   "metadata": {
    "colab": {
     "base_uri": "https://localhost:8080/"
    },
    "id": "L2FM1FA8bqmZ",
    "outputId": "ace73d56-5074-4617-8247-eae31ed6abee"
   },
   "outputs": [
    {
     "data": {
      "text/plain": [
       "403874    0.000000\n",
       "177729    0.166667\n",
       "298103    0.000000\n",
       "114854    0.300000\n",
       "513614    0.300000\n",
       "Name: target, dtype: float64"
      ]
     },
     "execution_count": 44,
     "metadata": {},
     "output_type": "execute_result"
    }
   ],
   "source": [
    "y_train.head()"
   ]
  },
  {
   "cell_type": "markdown",
   "metadata": {
    "id": "Z-bW1J8lbqmZ"
   },
   "source": [
    "## Punto 1 - Tokenización con CountVectorizer\n",
    "\n",
    "En la celda 1 creen y entrenen el modelo de regresión de su preferencia, para que prediga la probabilidad de que un comentario sea tóxico, usando los set de entrenamiento y test definidos anteriormente. Usen la función **CountVectorizer** para preprocesar los comentarios y presenten el desempeño del modelo con la métrica del MSE.\n",
    "\n",
    "Recuerden que el preprocesamiento que se haga sobre los datos de entrenamiento  (*.fit_transform()*) deben ser aplicado al set de test (*.transform()*)."
   ]
  },
  {
   "cell_type": "code",
   "execution_count": 45,
   "metadata": {
    "colab": {
     "base_uri": "https://localhost:8080/"
    },
    "id": "ymEdNmc2bqma",
    "outputId": "50be290d-4b58-465b-9537-dbc51c8444ae"
   },
   "outputs": [
    {
     "name": "stdout",
     "output_type": "stream",
     "text": [
      "[02:30:32] WARNING: ../src/learner.cc:767: \n",
      "Parameters: { \"njobs\" } are not used.\n",
      "\n",
      "MSE: 0.04382096258225908\n"
     ]
    }
   ],
   "source": [
    "stop_words = set(stopwords.words('english'))\n",
    "\n",
    "# Crear una instancia de CountVectorizer\n",
    "vectorizer = CountVectorizer(stop_words=list(stop_words))\n",
    "\n",
    "# Ajustar y transformar los comentarios\n",
    "X_train_countv = vectorizer.fit_transform(X_train)\n",
    "X_test_countv = vectorizer.transform(X_test)\n",
    "\n",
    "# Entrenar un modelo de bosque aleatorio\n",
    "model = xgb.XGBRegressor(njobs=-1) # tree_method='gpu_hist'\n",
    "model.fit(X_train_countv, y_train)\n",
    "\n",
    "# Evaluar el modelo\n",
    "y_pred = model.predict(X_test_countv)\n",
    "mse_countv = mean_squared_error(y_test, y_pred)  \n",
    "print('MSE:', mse_countv)"
   ]
  },
  {
   "cell_type": "markdown",
   "metadata": {
    "id": "ASu1eEKybqma"
   },
   "source": [
    "## Punto 2 - Tokenización con CountVectorizer y trigramas\n",
    "\n",
    "En la celda 2 creen y entrenen el mismo modelo de regresión del punto anterior (es decir si usaron un RandomForestRegresor usen nuevamente ese regresor), para que prediga la probabilidad de que un comentario sea tóxico, usando los set de entrenamiento y test definidos anteriormente. Usen la función CountVectorizer **considerando trigramas** para preprocesar los comentarios y presenten el desempeño del modelo con la métrica del MSE.\n",
    "\n",
    "Recuerden que el preprocesamiento que se haga sobre los datos de entrenamiento  (*.fit_transform()*) deben ser aplicado al set de test (*.transform()*)."
   ]
  },
  {
   "cell_type": "code",
   "execution_count": 46,
   "metadata": {
    "colab": {
     "base_uri": "https://localhost:8080/"
    },
    "id": "4C6anyAvbqmb",
    "outputId": "5ed3af12-b580-4868-8fe6-1016283f7140"
   },
   "outputs": [
    {
     "name": "stdout",
     "output_type": "stream",
     "text": [
      "[02:30:44] WARNING: ../src/learner.cc:767: \n",
      "Parameters: { \"njobs\" } are not used.\n",
      "\n",
      "MSE: 0.05873590224022707\n"
     ]
    }
   ],
   "source": [
    "# Celda 2\n",
    "# Crear un objeto CountVectorizer con n-gramas de tamaño 3\n",
    "vectorizer = CountVectorizer(ngram_range=(3, 3), stop_words=list(stop_words))\n",
    "\n",
    "# Ajustar y transformar los comentarios\n",
    "X_train_countvtrig = vectorizer.fit_transform(X_train)\n",
    "X_test_countvtrig = vectorizer.transform(X_test)\n",
    "\n",
    "# Entrenar un modelo de bosque aleatorio\n",
    "model = xgb.XGBRegressor(njobs=-1) # tree_method='gpu_hist'\n",
    "model.fit(X_train_countvtrig, y_train)\n",
    "\n",
    "# Evaluar el modelo\n",
    "y_pred = model.predict(X_test_countvtrig)\n",
    "mse_countvtrig = mean_squared_error(y_test, y_pred)  \n",
    "print('MSE:', mse_countvtrig)"
   ]
  },
  {
   "cell_type": "markdown",
   "metadata": {
    "id": "67kAZrfcmfts"
   },
   "source": [
    "### Análisis Trigrama\n",
    "\n",
    "Con el parámetro ngram_range se establece en (3,3), Los n-gramas son secuencias de n palabras consecutivas en un texto y son útiles para capturar patrones más complejos que las palabras individuales. En este caso, se estarán creando n-gramas de tamaño 3; el resultado no es mejora los resultados del unigrama calulado en el punto anterior; de acuerdo con el MSE obtenido."
   ]
  },
  {
   "cell_type": "markdown",
   "metadata": {
    "id": "4dqAWcQ0bqmb"
   },
   "source": [
    "## Punto 3 - TfidfVectorizer\n",
    "\n",
    "Investigen sobre la función TfidfVectorizer. En la celda de texto 3, expliquen en qué consiste esta técnica de tokenización (describanla y expliquen su funcionamiento) y cúales son las ventajas o deventajas de su uso al compararlo con la función CountVectorizer."
   ]
  },
  {
   "cell_type": "markdown",
   "metadata": {
    "id": "hmOC19rsbqmb"
   },
   "source": [
    "### Celda 3\n",
    "La técnica de tokenización TfidfVectorizer se basa en la frecuencia inversa de documentos (tf-idf), que mide la importancia de cada palabra en un documento o corpus en función de su frecuencia en el documento y en todo el corpus. Esta técnica es similar a CountVectorizer, pero en lugar de simplemente contar la frecuencia de cada palabra en cada documento, utiliza una puntuación ponderada que refleja la frecuencia de la palabra en el documento y en todo el corpus.\n",
    "\n",
    "En otras palabras, TfidfVectorizer asigna un valor a cada palabra en un documento en función de su frecuencia en ese documento y en el conjunto completo de documentos. Una palabra que aparece con frecuencia en un documento pero rara vez en otros documentos del conjunto de datos tendrá una puntuación alta, mientras que una palabra que aparece en muchos documentos tendrá una puntuación baja.\n",
    "\n",
    "Una de las ventajas de TfidfVectorizer es que puede ser útil para identificar palabras importantes en un conjunto de datos, ya que asigna puntuaciones más altas a las palabras que son más únicas en un documento. Además, es capaz de manejar mejor las palabras comunes que no son necesariamente informativas para la clasificación, ya que les asigna una puntuación baja.\n",
    "\n",
    "Una posible desventaja de TfidfVectorizer es que puede requerir más procesamiento y recursos que CountVectorizer, ya que tiene que calcular la frecuencia inversa de documentos y realizar cálculos más complejos para asignar las puntuaciones a las palabras. Además, como TfidfVectorizer da más peso a las palabras menos comunes, puede ser más susceptible al ruido en el conjunto de datos y requerir más ajuste de los hiperparámetros para obtener los mejores resultados."
   ]
  },
  {
   "cell_type": "markdown",
   "metadata": {
    "id": "52Un_p_zbqmc"
   },
   "source": [
    "## Punto 4 - Tokenización con TfidfVectorizer\n",
    "\n",
    "En la celda 4 creen y entrenen el mismo modelo de regresión del primer punto, para que prediga la probabilidad de que un comentario sea tóxico, usando los set de entrenamiento y test definidos anteriormente. Procesen los comentarios con la función **TfidfVectorizer** y presenten el desempeño del modelo con la métrica del MSE.\n",
    "\n",
    "Recuerden que el preprocesamiento que se haga sobre los datos de entrenamiento  (*.fit_transform()*) deben ser aplicado al set de test (*.transform()*)."
   ]
  },
  {
   "cell_type": "code",
   "execution_count": 47,
   "metadata": {
    "colab": {
     "base_uri": "https://localhost:8080/"
    },
    "id": "Uzb_4Fyrbqmc",
    "outputId": "30df694e-4885-45e8-9c9a-a3da0a537f2b"
   },
   "outputs": [
    {
     "name": "stdout",
     "output_type": "stream",
     "text": [
      "[02:31:17] WARNING: ../src/learner.cc:767: \n",
      "Parameters: { \"njobs\" } are not used.\n",
      "\n",
      "MSE: 0.042161779558745824\n"
     ]
    }
   ],
   "source": [
    "# Celda 4\n",
    "# Crear el vectorizador TfidfVectorizer\n",
    "tfidf_vectorizer = TfidfVectorizer(ngram_range=(1, 1), stop_words=list(stop_words))\n",
    "\n",
    "# Aplicar el vectorizador a los comentarios de entrenamiento y test\n",
    "X_train_tfidf = tfidf_vectorizer.fit_transform(X_train)\n",
    "X_test_tfidf = tfidf_vectorizer.transform(X_test)\n",
    "\n",
    "# Crear el modelo de regresión y entrenarlo\n",
    "model_tfidf = xgb.XGBRegressor(njobs=-1) # tree_method='gpu_hist'\n",
    "model_tfidf.fit(X_train_tfidf, y_train)\n",
    "\n",
    "# Realizar predicciones en los datos de entrenamiento y test\n",
    "y_pred_test_tfidf = model_tfidf.predict(X_test_tfidf)\n",
    "\n",
    "# Calcular el MSE en los datos de entrenamiento y test\n",
    "mse_tfidfvectorizer = mean_squared_error(y_test, y_pred_test_tfidf)\n",
    "\n",
    "# Imprimir los resultados\n",
    "print(\"MSE:\", mse_tfidfvectorizer)"
   ]
  },
  {
   "cell_type": "markdown",
   "metadata": {
    "id": "jfQNppvobqmc"
   },
   "source": [
    "### Análisis TfidfVectorizer \n",
    "En este caso, el vectorizador TfidfVectorizer se configura para utilizar unigramas (ngram_range=(1, 1)), lo que significa que se considera cada palabra individual en lugar de pares o tríos de palabras. La principal diferencia entre CountVectorizer y TfidfVectorizer es que este último utiliza la frecuencia inversa del documento (IDF) como parte del cálculo del peso de cada palabra en el vector de características. Esto significa que las palabras que aparecen con frecuencia en todo el corpus de documentos (como \"the\", \"and\", \"a\", etc.) tendrán un peso más bajo que las palabras que aparecen con menos frecuencia en el corpus.\n",
    "\n",
    "La ventaja de usar TfidfVectorizer en lugar de CountVectorizer es que puede mejorar el rendimiento del modelo al reducir el impacto de palabras comunes que no son informativas para la tarea de clasificación. Sin embargo, también puede haber casos en los que palabras comunes son importantes para la tarea y, en esos casos, CountVectorizer podría ser más efectivo; para este caso mejora el rendimiento disminuyendo el error como se observa en el MSE obtenido."
   ]
  },
  {
   "cell_type": "markdown",
   "metadata": {
    "id": "BkAsfqp7bqmd"
   },
   "source": [
    "## Punto 5 - Comparación y análisis de resultados\n",
    "\n",
    "En la celda 5 comparen los resultados obtenidos de los diferentes modelos y comenten cómo el preprocesamiento de texto afecta el desempeño."
   ]
  },
  {
   "cell_type": "code",
   "execution_count": 53,
   "metadata": {
    "colab": {
     "base_uri": "https://localhost:8080/",
     "height": 618
    },
    "id": "z0k4jM2ZnjjH",
    "outputId": "b0eba91b-bf9b-4479-cfb2-67ffb35bc521"
   },
   "outputs": [
    {
     "data": {
      "image/png": "[encoded data removed]",
      "text/plain": [
       "<Figure size 640x480 with 1 Axes>"
      ]
     },
     "metadata": {},
     "output_type": "display_data"
    }
   ],
   "source": [
    "# Lista de los valores de MSE obtenidos por cada modelo\n",
    "mse_values = [mse_countv, mse_countvtrig, mse_tfidfvectorizer]\n",
    "\n",
    "# Lista con los nombres de los modelos\n",
    "model_names = ['CountVectorizer', 'CountVectorizer con trigramas', 'TfidfVectorizer']\n",
    "\n",
    "# Lista de colores para las barras\n",
    "colors = ['blue', 'orange', 'green']\n",
    "\n",
    "# Crear un gráfico de barras para comparar los valores de MSE\n",
    "plt.bar(model_names, mse_values, color=colors)\n",
    "\n",
    "# Agregar etiquetas al gráfico\n",
    "plt.title('Comparación de MSE entre diferentes modelos')\n",
    "plt.xlabel('Modelo')\n",
    "plt.ylabel('MSE')\n",
    "plt.xticks(rotation=45)\n",
    "\n",
    "# Agregar etiquetas a cada columna y valor dentro de las barras\n",
    "for i, v in enumerate(mse_values):\n",
    "    \n",
    "    plt.text(i, v-0.005, str(round(v, 5)), color='white', ha='center')\n",
    "\n",
    "# Mostrar el gráfico\n",
    "plt.show()"
   ]
  },
  {
   "cell_type": "markdown",
   "metadata": {
    "id": "Qa5SgTwbpGNs"
   },
   "source": [
    "## Conclusiones\n",
    "\n",
    "De los tres modelos implementados, el TfidfVectorizer obtuvo el MSE más bajo (0.041322), lo que sugiere que este modelo es el mejor para predecir la variable objetivo, toxicidad de la oracion en este caso.\n",
    "\n",
    "En primer lugar, el CountVectorizer con unigramas obtuvo un MSE de 0.04322, lo que indica que el modelo clasificó correctamente aproximadamente el 95,68% de los datos de prueba.\n",
    "\n",
    "En segundo lugar, el CountVectorizer con trigramas obtuvo un MSE de 0.0583, lo que indica que el modelo clasificó correctamente aproximadamente el 94,16% de los datos de prueba. El rendimiento del modelo empeoró ligeramente en comparación con el CountVectorizer con unigramas.\n",
    "\n",
    "En tercer lugar, el TfidfVectorizer obtuvo el mejor resultado con un MSE de 0.04132, lo que indica que el modelo clasificó correctamente aproximadamente el 95,87% de los datos de prueba. El rendimiento del modelo TfidfVectorizer fue ligeramente mejor que el CountVectorizer con unigramas.\n",
    "\n",
    "En general, el TfidfVectorizer tuvo el mejor rendimiento de los tres modelos en términos de MSE y precisión en la clasificación de texto. Sin embargo, es importante tener en cuenta que la elección del modelo depende del problema específico que se esté abordando y que otros factores, como la calidad de los datos y la selección de hiperparámetros, también pueden tener un impacto significativo en el rendimiento del modelo.\n",
    "\n",
    "## Preprocesamiento\n",
    "\n",
    "El preprocesamiento de texto puede tener un gran impacto en el desempeño de un modelo de procesamiento del lenguaje natural. es una etapa clave en el procesamiento del lenguaje natural que implica la limpieza, normalización y transformación del texto de entrada para su posterior análisis. con este se busca es reducir el ruido y la necesidad en los datos de texto y permitir una mejor extraccion de caracteristicas y modelado de los mismos.\n",
    "\n",
    "La eliminación de palabras comunes, también conocidas como stop words, puede ayudar a reducir el ruido en los datos de texto, pero también puede eliminar información importante, especialmente en casos donde las palabras comunes pueden tener un significado importante en el Contexto del problema.\n",
    "\n",
    "La reducción de palabras a su raíz, conocida como stemming, y la transformación de las palabras a su forma base, conocida como lematización, pueden reducir la escasez de los datos de texto afectando el contexto de la información., sin embargo, tambien puede mejorar el desempeño del modelo al reducir el ruido y la complejidad de los datos.\n",
    "\n"
   ]
  }
 ],
 "metadata": {
  "colab": {
   "provenance": []
  },
  "kernelspec": {
   "display_name": "Python 3 (ipykernel)",
   "language": "python",
   "name": "python3"
  },
  "language_info": {
   "codemirror_mode": {
    "name": "ipython",
    "version": 3
   },
   "file_extension": ".py",
   "mimetype": "text/x-python",
   "name": "python",
   "nbconvert_exporter": "python",
   "pygments_lexer": "ipython3",
   "version": "3.9.7"
  },
  "name": "_merged"
 },
 "nbformat": 4,
 "nbformat_minor": 1
}
