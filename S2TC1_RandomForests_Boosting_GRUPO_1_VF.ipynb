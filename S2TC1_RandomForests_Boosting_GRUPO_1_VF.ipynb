{
 "cells": [
  {
   "cell_type": "markdown",
   "metadata": {},
   "source": [
    "![image info](https://raw.githubusercontent.com/albahnsen/MIAD_ML_and_NLP/main/images/banner_1.png)"
   ]
  },
  {
   "cell_type": "markdown",
   "metadata": {},
   "source": [
    "# Taller: Construcción e implementación de modelos Bagging, Random Forest y XGBoost\n",
    "\n",
    "En este taller podrán poner en práctica sus conocimientos sobre la construcción e implementación de modelos de Bagging, Random Forest y XGBoost. El taller está constituido por 8 puntos, en los cuales deberan seguir las intrucciones de cada numeral para su desarrollo."
   ]
  },
  {
   "cell_type": "markdown",
   "metadata": {},
   "source": [
    "## Datos predicción precio de automóviles\n",
    "\n",
    "En este taller se usará el conjunto de datos de Car Listings de Kaggle donde cada observación representa el precio de un automóvil teniendo en cuenta distintas variables como año, marca, modelo, entre otras. El objetivo es predecir el precio del automóvil. Para más detalles puede visitar el siguiente enlace: [datos](https://www.kaggle.com/jpayne/852k-used-car-listings)."
   ]
  },
  {
   "cell_type": "code",
   "execution_count": 1,
   "metadata": {},
   "outputs": [],
   "source": [
    "import warnings\n",
    "warnings.filterwarnings('ignore')"
   ]
  },
  {
   "cell_type": "code",
   "execution_count": 2,
   "metadata": {},
   "outputs": [
    {
     "data": {
      "text/html": [
       "<div>\n",
       "<style scoped>\n",
       "    .dataframe tbody tr th:only-of-type {\n",
       "        vertical-align: middle;\n",
       "    }\n",
       "\n",
       "    .dataframe tbody tr th {\n",
       "        vertical-align: top;\n",
       "    }\n",
       "\n",
       "    .dataframe thead th {\n",
       "        text-align: right;\n",
       "    }\n",
       "</style>\n",
       "<table border=\"1\" class=\"dataframe\">\n",
       "  <thead>\n",
       "    <tr style=\"text-align: right;\">\n",
       "      <th></th>\n",
       "      <th>Price</th>\n",
       "      <th>Year</th>\n",
       "      <th>Mileage</th>\n",
       "      <th>M_Camry</th>\n",
       "      <th>M_Camry4dr</th>\n",
       "      <th>M_CamryBase</th>\n",
       "      <th>M_CamryL</th>\n",
       "      <th>M_CamryLE</th>\n",
       "      <th>M_CamrySE</th>\n",
       "      <th>M_CamryXLE</th>\n",
       "    </tr>\n",
       "  </thead>\n",
       "  <tbody>\n",
       "    <tr>\n",
       "      <th>7</th>\n",
       "      <td>21995</td>\n",
       "      <td>2014</td>\n",
       "      <td>6480</td>\n",
       "      <td>0</td>\n",
       "      <td>0</td>\n",
       "      <td>0</td>\n",
       "      <td>1</td>\n",
       "      <td>0</td>\n",
       "      <td>0</td>\n",
       "      <td>0</td>\n",
       "    </tr>\n",
       "    <tr>\n",
       "      <th>11</th>\n",
       "      <td>13995</td>\n",
       "      <td>2014</td>\n",
       "      <td>39972</td>\n",
       "      <td>0</td>\n",
       "      <td>0</td>\n",
       "      <td>0</td>\n",
       "      <td>0</td>\n",
       "      <td>1</td>\n",
       "      <td>0</td>\n",
       "      <td>0</td>\n",
       "    </tr>\n",
       "    <tr>\n",
       "      <th>167</th>\n",
       "      <td>17941</td>\n",
       "      <td>2016</td>\n",
       "      <td>18989</td>\n",
       "      <td>0</td>\n",
       "      <td>0</td>\n",
       "      <td>0</td>\n",
       "      <td>0</td>\n",
       "      <td>0</td>\n",
       "      <td>1</td>\n",
       "      <td>0</td>\n",
       "    </tr>\n",
       "    <tr>\n",
       "      <th>225</th>\n",
       "      <td>12493</td>\n",
       "      <td>2014</td>\n",
       "      <td>51330</td>\n",
       "      <td>0</td>\n",
       "      <td>0</td>\n",
       "      <td>0</td>\n",
       "      <td>1</td>\n",
       "      <td>0</td>\n",
       "      <td>0</td>\n",
       "      <td>0</td>\n",
       "    </tr>\n",
       "    <tr>\n",
       "      <th>270</th>\n",
       "      <td>7994</td>\n",
       "      <td>2007</td>\n",
       "      <td>116065</td>\n",
       "      <td>0</td>\n",
       "      <td>1</td>\n",
       "      <td>0</td>\n",
       "      <td>0</td>\n",
       "      <td>0</td>\n",
       "      <td>0</td>\n",
       "      <td>0</td>\n",
       "    </tr>\n",
       "  </tbody>\n",
       "</table>\n",
       "</div>"
      ],
      "text/plain": [
       "     Price  Year  Mileage  M_Camry  M_Camry4dr  M_CamryBase  M_CamryL  \\\n",
       "7    21995  2014     6480        0           0            0         1   \n",
       "11   13995  2014    39972        0           0            0         0   \n",
       "167  17941  2016    18989        0           0            0         0   \n",
       "225  12493  2014    51330        0           0            0         1   \n",
       "270   7994  2007   116065        0           1            0         0   \n",
       "\n",
       "     M_CamryLE  M_CamrySE  M_CamryXLE  \n",
       "7            0          0           0  \n",
       "11           1          0           0  \n",
       "167          0          1           0  \n",
       "225          0          0           0  \n",
       "270          0          0           0  "
      ]
     },
     "execution_count": 2,
     "metadata": {},
     "output_type": "execute_result"
    }
   ],
   "source": [
    "# Importación de librerías\n",
    "%matplotlib inline\n",
    "import math\n",
    "import numpy as np\n",
    "import pandas as pd\n",
    "import xgboost as xgb\n",
    "import seaborn as sns\n",
    "import matplotlib.pyplot as plt\n",
    "from sklearn.tree import DecisionTreeRegressor\n",
    "from sklearn.ensemble import RandomForestRegressor, BaggingRegressor\n",
    "from sklearn.model_selection import cross_val_score, GridSearchCV\n",
    "from sklearn.metrics import mean_squared_error, r2_score, mean_absolute_error, accuracy_score, f1_score\n",
    "\n",
    "# Lectura de la información de archivo .csv\n",
    "data = pd.read_csv('https://raw.githubusercontent.com/albahnsen/MIAD_ML_and_NLP/main/datasets/dataTrain_carListings.zip')\n",
    "\n",
    "# Preprocesamiento de datos para el taller\n",
    "data = data.loc[data['Model'].str.contains('Camry')].drop(['Make', 'State'], axis=1)\n",
    "data = data.join(pd.get_dummies(data['Model'], prefix='M'))\n",
    "data = data.drop(['Model'], axis=1)\n",
    "\n",
    "# Visualización dataset\n",
    "data.head()"
   ]
  },
  {
   "cell_type": "code",
   "execution_count": 3,
   "metadata": {},
   "outputs": [],
   "source": [
    "# Separación de variables predictoras (X) y variable de interés (y)\n",
    "y = data['Price']\n",
    "X = data.drop(['Price'], axis=1)"
   ]
  },
  {
   "cell_type": "code",
   "execution_count": 23,
   "metadata": {},
   "outputs": [
    {
     "data": {
      "text/plain": [
       "(10495, 10)"
      ]
     },
     "execution_count": 23,
     "metadata": {},
     "output_type": "execute_result"
    }
   ],
   "source": [
    "data.shape"
   ]
  },
  {
   "cell_type": "code",
   "execution_count": 4,
   "metadata": {},
   "outputs": [
    {
     "data": {
      "image/png": "[encoded data removed]",
      "text/plain": [
       "<Figure size 432x288 with 1 Axes>"
      ]
     },
     "metadata": {
      "needs_background": "light"
     },
     "output_type": "display_data"
    }
   ],
   "source": [
    "import matplotlib.pyplot as plt\n",
    "\n",
    "plt.boxplot(y)\n",
    "plt.title(\"Boxplot del Precio de los Carros\")\n",
    "plt.ylabel(\"Precio (dólares)\")\n",
    "plt.show()"
   ]
  },
  {
   "cell_type": "code",
   "execution_count": 5,
   "metadata": {},
   "outputs": [],
   "source": [
    "# Separación de datos en set de entrenamiento y test\n",
    "from sklearn.model_selection import train_test_split\n",
    "X_train, X_test, y_train, y_test = train_test_split(X, y, test_size=0.33, random_state=42)"
   ]
  },
  {
   "cell_type": "markdown",
   "metadata": {},
   "source": [
    "### Punto 1 - Árbol de decisión manual\n",
    "\n",
    "En la celda 1 creen un árbol de decisión **manualmente**  que considere los set de entrenamiento y test definidos anteriormente y presenten el RMSE y MAE del modelo en el set de test."
   ]
  },
  {
   "cell_type": "code",
   "execution_count": 6,
   "metadata": {},
   "outputs": [
    {
     "name": "stdout",
     "output_type": "stream",
     "text": [
      "Medidas desempeño árbol Manual MSE: 214722281.42, R2: -13.04,RMSE: 14653.41, MAE: 13877.51, MAPE: 95.31\n"
     ]
    }
   ],
   "source": [
    "# Celda 1\n",
    "\n",
    "# Definición de la función que calcula el gini index\n",
    "def gini(y):\n",
    "    if y.shape[0] == 0:\n",
    "        return 0\n",
    "    else:\n",
    "        return 1 - (y.mean()**2 + (1 - y.mean())**2)\n",
    "    \n",
    "# Definición de la función gini_imputiry para calular la ganancia de una variable predictora j dado el punto de corte k\n",
    "def gini_impurity(X_col, y, split):\n",
    "    filter_l = X_col < split\n",
    "    y_l = y.loc[filter_l]\n",
    "    y_r = y.loc[~filter_l]\n",
    "    n_l = y_l.shape[0]\n",
    "    n_r = y_r.shape[0]\n",
    "    gini_y = gini(y)\n",
    "    gini_l = gini(y_l)\n",
    "    gini_r = gini(y_r)\n",
    "    gini_impurity_ = gini_y - (n_l / (n_l + n_r) * gini_l + n_r / (n_l + n_r) * gini_r)\n",
    "    return gini_impurity_\n",
    "\n",
    "# Definición de la función best_split para calcular cuál es la mejor variable y punto de cortepara hacer la bifurcación del árbol\n",
    "def best_split(X, y, num_pct=10):    \n",
    "    features = range(X.shape[1])\n",
    "    best_split = [0, 0, 0]  # j, split, gain\n",
    "    \n",
    "    # Para todas las varibles \n",
    "    for j in features:\n",
    "        splits = np.percentile(X.iloc[:, j], np.arange(0, 100, 100.0 / (num_pct+1)).tolist())\n",
    "        splits = np.unique(splits)[1:]\n",
    "        \n",
    "        # Para cada partición\n",
    "        for split in splits:\n",
    "            gain = gini_impurity(X.iloc[:, j], y, split)        \n",
    "            if gain > best_split[2]:\n",
    "                best_split = [j, split, gain]    \n",
    "    return best_split\n",
    "\n",
    "\n",
    "# Definición de la función tree_grow para hacer un crecimiento recursivo del árbol\n",
    "def tree_grow(X, y, level=0, min_gain=0.001, max_depth=None, num_pct=None):\n",
    "    # Si solo es una observación\n",
    "    if X.shape[0] == 1:\n",
    "        tree = dict(y_pred=y.iloc[:1].values[0], y_prob=0.5, level=level, split=-1, n_samples=1, gain=0)\n",
    "        return tree\n",
    "    \n",
    "    # Calcular la mejor división\n",
    "    j, split, gain = best_split(X, y, num_pct)\n",
    "    \n",
    "    # Guardar el árbol y estimar la predicción\n",
    "    y_pred = int(y.mean() >= 0.5) \n",
    "    y_prob = (y.sum() + 1.0) / (y.shape[0] + 2.0)  # Corrección Laplace \n",
    "    \n",
    "    tree = dict(y_pred=y_pred, y_prob=y_prob, level=level, split=-1, n_samples=X.shape[0], gain=gain)\n",
    "    # Revisar el criterio de parada \n",
    "    if gain < min_gain:\n",
    "        return tree\n",
    "    if max_depth is not None:\n",
    "        if level >= max_depth:\n",
    "            return tree   \n",
    "    # Continuar creando la partición\n",
    "    filter_l = X.iloc[:, j] < split\n",
    "    X_l, y_l = X.loc[filter_l], y.loc[filter_l]\n",
    "    X_r, y_r = X.loc[~filter_l], y.loc[~filter_l]\n",
    "    tree['split'] = [j, split]\n",
    "\n",
    "    # Siguiente iteración para cada partición\n",
    "    tree['sl'] = tree_grow(X_l, y_l, level + 1, min_gain=min_gain, max_depth=max_depth, num_pct=num_pct)\n",
    "    tree['sr'] = tree_grow(X_r, y_r, level + 1, min_gain=min_gain, max_depth=max_depth, num_pct=num_pct)\n",
    "    \n",
    "    return tree\n",
    "\n",
    "\n",
    "def tree_predict(X, tree, proba=False):\n",
    "    predicted = np.ones(X.shape[0])\n",
    "    # Revisar si es el nodo final\n",
    "    if tree['split'] == -1:\n",
    "        if not proba:\n",
    "            predicted = predicted * tree['y_pred']\n",
    "        else:\n",
    "            predicted = predicted * tree['y_prob']  \n",
    "    else:\n",
    "        j, split = tree['split']\n",
    "        filter_l = (X.iloc[:, j] < split)\n",
    "        X_l = X.loc[filter_l]\n",
    "        X_r = X.loc[~filter_l]\n",
    "        if X_l.shape[0] == 0:  # Si el nodo izquierdo está vacio solo continua con el derecho \n",
    "            predicted[~filter_l] = tree_predict(X_r, tree['sr'], proba)\n",
    "        elif X_r.shape[0] == 0:  #  Si el nodo derecho está vacio solo continua con el izquierdo\n",
    "            predicted[filter_l] = tree_predict(X_l, tree['sl'], proba)\n",
    "        else:\n",
    "            predicted[filter_l] = tree_predict(X_l, tree['sl'], proba)\n",
    "            predicted[~filter_l] = tree_predict(X_r, tree['sr'], proba)\n",
    "    return predicted\n",
    "\n",
    "# Entrenamiento y ajuste del arbol\n",
    "tree = tree_grow(X_train, y_train, level=0, min_gain=0.001, max_depth=10, num_pct=10)\n",
    "y_pred = tree_predict(X_test, tree)\n",
    "y_true = y_test\n",
    "\n",
    "mse1 = mean_squared_error(y_true, y_pred)\n",
    "r21 = r2_score(y_true, y_pred)\n",
    "rmse1 = np.sqrt(mse1)\n",
    "mae1 = mean_absolute_error(y_true, y_pred)\n",
    "mape1 =np.mean(np.abs((y_true - y_pred) / y_true)) * 100\n",
    "\n",
    "print(\"Medidas desempeño árbol Manual MSE: {:.2f}, R2: {:.2f},RMSE: {:.2f}, MAE: {:.2f}, MAPE: {:.2f}\".format(mse1, r21,rmse1, mae1,mape1))\n"
   ]
  },
  {
   "cell_type": "markdown",
   "metadata": {},
   "source": [
    "#### Análisis punto 1\n",
    "De acuerdo con el modelo árbol entrenadado y sus medidas de desempeño se puede concluir:\n",
    "* El coeficiente de determinación (R2) indica la proporción de la variabilidad en el precio del carro que se puede explicar por el modelo. Un valor de R2 negativo como en este caso (-13.04) sugiere que el modelo no es útil para hacer predicciones precisas.\n",
    "\n",
    "* El error cuadrático medio (RMSE) correspondiente a la desviación promedio de las predicciones del modelo en comparación con los valores reales. En este caso, el valor del RMSE es alto (14653.41), lo que indica que el modelo tiene un alto grado de error y no es muy preciso.\n",
    "\n",
    "* El error absoluto medio (MAE) es similar al RMSE, pero en lugar de elevar al cuadrado las diferencias entre las predicciones y los valores reales, se toma el valor absoluto. Un valor alto del MAE (como en este caso, 13877.51) sugiere que el modelo no es muy preciso.\n",
    "\n",
    "* El error porcentual absoluto medio (MAPE) es una medida de la precisión del modelo en términos de porcentaje. El valor alto del MAPE (95.31) sugiere que el modelo tiene una precisión muy baja y no es confiable para hacer predicciones precisas.\n",
    "\n",
    "*Es necesarion analizar las variables importantes que el modelo utilizó para hacer las predicciones. Esto puede ayudar a identificar qué variables son más importantes para la definición del Preci y proporcionar información valiosa para futuros análisis y modelos.\n",
    "\n",
    "En resumen, los resultados del modelo de árbol entrenado con todas las variables predictoras indican que el modelo no es muy preciso y no es útil para hacer predicciones precisas. Se deben analizar otras variables y modelos para determinar qué factores están afectando el rendimiento del modelo actual."
   ]
  },
  {
   "cell_type": "markdown",
   "metadata": {},
   "source": [
    "### Punto 2 - Bagging manual\n",
    "\n",
    "En la celda 2 creen un modelo bagging **manualmente** con 10 árboles de regresión y comenten sobre el desempeño del modelo."
   ]
  },
  {
   "cell_type": "code",
   "execution_count": 7,
   "metadata": {},
   "outputs": [
    {
     "name": "stdout",
     "output_type": "stream",
     "text": [
      "Arreglo: [ 1  2  3  4  5  6  7  8  9 10 11 12 13 14 15 16 17 18 19 20]\n",
      "Muestreo aleatorio:  [ 6 12 13  9 10 12  6 16  1 17  2 13  8 14  7 19  6 19 12 11]\n"
     ]
    }
   ],
   "source": [
    "# Celda 2\n",
    "\n",
    "# Se crea un arreglo de 1 a 20\n",
    "np.random.seed(1)\n",
    "\n",
    "# Impresión de arreglo y muestreo aleatorio\n",
    "nums = np.arange(1, 21)\n",
    "print('Arreglo:', nums)\n",
    "print('Muestreo aleatorio: ', np.random.choice(a=nums, size=20, replace=True))"
   ]
  },
  {
   "cell_type": "code",
   "execution_count": 8,
   "metadata": {},
   "outputs": [
    {
     "data": {
      "text/plain": [
       "[array([3582, 3454, 1346, ...,  826,  801, 5657]),\n",
       " array([6962, 3408, 2553, ..., 6611,  877, 6412]),\n",
       " array([1917, 3131,  384, ..., 2876, 6449, 6557]),\n",
       " array([3849, 4565, 6820, ..., 6835, 4643,  639]),\n",
       " array([2468, 3608, 1367, ..., 3108, 2961, 4357]),\n",
       " array([3142, 1537, 5966, ..., 3224, 6922, 3396]),\n",
       " array([6588, 3753, 1786, ..., 2131, 4627, 5672]),\n",
       " array([1289, 3776,  981, ..., 1891, 6034, 6165]),\n",
       " array([6079, 3819, 6976, ..., 6478, 2225, 5072]),\n",
       " array([3952, 3276,  896, ..., 4589, 1964,  893])]"
      ]
     },
     "execution_count": 8,
     "metadata": {},
     "output_type": "execute_result"
    }
   ],
   "source": [
    "# Creación de 10 muestras de bootstrap \n",
    "np.random.seed(123)\n",
    "\n",
    "n_samples = X_train.shape[0]\n",
    "n_B = 10\n",
    "\n",
    "samples = [np.random.choice(a=n_samples, size=n_samples, replace=True) for _ in range(1, n_B +1 )]\n",
    "samples"
   ]
  },
  {
   "cell_type": "code",
   "execution_count": 9,
   "metadata": {},
   "outputs": [
    {
     "data": {
      "text/html": [
       "<div>\n",
       "<style scoped>\n",
       "    .dataframe tbody tr th:only-of-type {\n",
       "        vertical-align: middle;\n",
       "    }\n",
       "\n",
       "    .dataframe tbody tr th {\n",
       "        vertical-align: top;\n",
       "    }\n",
       "\n",
       "    .dataframe thead th {\n",
       "        text-align: right;\n",
       "    }\n",
       "</style>\n",
       "<table border=\"1\" class=\"dataframe\">\n",
       "  <thead>\n",
       "    <tr style=\"text-align: right;\">\n",
       "      <th></th>\n",
       "      <th>Year</th>\n",
       "      <th>Mileage</th>\n",
       "      <th>M_Camry</th>\n",
       "      <th>M_Camry4dr</th>\n",
       "      <th>M_CamryBase</th>\n",
       "      <th>M_CamryL</th>\n",
       "      <th>M_CamryLE</th>\n",
       "      <th>M_CamrySE</th>\n",
       "      <th>M_CamryXLE</th>\n",
       "    </tr>\n",
       "  </thead>\n",
       "  <tbody>\n",
       "    <tr>\n",
       "      <th>151599</th>\n",
       "      <td>2016</td>\n",
       "      <td>40999</td>\n",
       "      <td>0</td>\n",
       "      <td>0</td>\n",
       "      <td>0</td>\n",
       "      <td>0</td>\n",
       "      <td>0</td>\n",
       "      <td>1</td>\n",
       "      <td>0</td>\n",
       "    </tr>\n",
       "    <tr>\n",
       "      <th>171999</th>\n",
       "      <td>2014</td>\n",
       "      <td>52527</td>\n",
       "      <td>0</td>\n",
       "      <td>0</td>\n",
       "      <td>0</td>\n",
       "      <td>0</td>\n",
       "      <td>0</td>\n",
       "      <td>1</td>\n",
       "      <td>0</td>\n",
       "    </tr>\n",
       "    <tr>\n",
       "      <th>304172</th>\n",
       "      <td>2009</td>\n",
       "      <td>123202</td>\n",
       "      <td>0</td>\n",
       "      <td>1</td>\n",
       "      <td>0</td>\n",
       "      <td>0</td>\n",
       "      <td>0</td>\n",
       "      <td>0</td>\n",
       "      <td>0</td>\n",
       "    </tr>\n",
       "    <tr>\n",
       "      <th>74828</th>\n",
       "      <td>2015</td>\n",
       "      <td>38807</td>\n",
       "      <td>0</td>\n",
       "      <td>0</td>\n",
       "      <td>0</td>\n",
       "      <td>0</td>\n",
       "      <td>0</td>\n",
       "      <td>1</td>\n",
       "      <td>0</td>\n",
       "    </tr>\n",
       "    <tr>\n",
       "      <th>192974</th>\n",
       "      <td>2005</td>\n",
       "      <td>51260</td>\n",
       "      <td>0</td>\n",
       "      <td>0</td>\n",
       "      <td>0</td>\n",
       "      <td>0</td>\n",
       "      <td>0</td>\n",
       "      <td>0</td>\n",
       "      <td>1</td>\n",
       "    </tr>\n",
       "    <tr>\n",
       "      <th>...</th>\n",
       "      <td>...</td>\n",
       "      <td>...</td>\n",
       "      <td>...</td>\n",
       "      <td>...</td>\n",
       "      <td>...</td>\n",
       "      <td>...</td>\n",
       "      <td>...</td>\n",
       "      <td>...</td>\n",
       "      <td>...</td>\n",
       "    </tr>\n",
       "    <tr>\n",
       "      <th>134843</th>\n",
       "      <td>2014</td>\n",
       "      <td>22221</td>\n",
       "      <td>0</td>\n",
       "      <td>0</td>\n",
       "      <td>0</td>\n",
       "      <td>0</td>\n",
       "      <td>1</td>\n",
       "      <td>0</td>\n",
       "      <td>0</td>\n",
       "    </tr>\n",
       "    <tr>\n",
       "      <th>325075</th>\n",
       "      <td>2013</td>\n",
       "      <td>86593</td>\n",
       "      <td>0</td>\n",
       "      <td>0</td>\n",
       "      <td>0</td>\n",
       "      <td>0</td>\n",
       "      <td>0</td>\n",
       "      <td>1</td>\n",
       "      <td>0</td>\n",
       "    </tr>\n",
       "    <tr>\n",
       "      <th>61213</th>\n",
       "      <td>2014</td>\n",
       "      <td>28044</td>\n",
       "      <td>0</td>\n",
       "      <td>0</td>\n",
       "      <td>0</td>\n",
       "      <td>0</td>\n",
       "      <td>0</td>\n",
       "      <td>1</td>\n",
       "      <td>0</td>\n",
       "    </tr>\n",
       "    <tr>\n",
       "      <th>181222</th>\n",
       "      <td>2016</td>\n",
       "      <td>49368</td>\n",
       "      <td>0</td>\n",
       "      <td>0</td>\n",
       "      <td>0</td>\n",
       "      <td>0</td>\n",
       "      <td>0</td>\n",
       "      <td>0</td>\n",
       "      <td>1</td>\n",
       "    </tr>\n",
       "    <tr>\n",
       "      <th>275601</th>\n",
       "      <td>2015</td>\n",
       "      <td>32069</td>\n",
       "      <td>1</td>\n",
       "      <td>0</td>\n",
       "      <td>0</td>\n",
       "      <td>0</td>\n",
       "      <td>0</td>\n",
       "      <td>0</td>\n",
       "      <td>0</td>\n",
       "    </tr>\n",
       "  </tbody>\n",
       "</table>\n",
       "<p>7031 rows × 9 columns</p>\n",
       "</div>"
      ],
      "text/plain": [
       "        Year  Mileage  M_Camry  M_Camry4dr  M_CamryBase  M_CamryL  M_CamryLE  \\\n",
       "151599  2016    40999        0           0            0         0          0   \n",
       "171999  2014    52527        0           0            0         0          0   \n",
       "304172  2009   123202        0           1            0         0          0   \n",
       "74828   2015    38807        0           0            0         0          0   \n",
       "192974  2005    51260        0           0            0         0          0   \n",
       "...      ...      ...      ...         ...          ...       ...        ...   \n",
       "134843  2014    22221        0           0            0         0          1   \n",
       "325075  2013    86593        0           0            0         0          0   \n",
       "61213   2014    28044        0           0            0         0          0   \n",
       "181222  2016    49368        0           0            0         0          0   \n",
       "275601  2015    32069        1           0            0         0          0   \n",
       "\n",
       "        M_CamrySE  M_CamryXLE  \n",
       "151599          1           0  \n",
       "171999          1           0  \n",
       "304172          0           0  \n",
       "74828           1           0  \n",
       "192974          0           1  \n",
       "...           ...         ...  \n",
       "134843          0           0  \n",
       "325075          1           0  \n",
       "61213           1           0  \n",
       "181222          0           1  \n",
       "275601          0           0  \n",
       "\n",
       "[7031 rows x 9 columns]"
      ]
     },
     "execution_count": 9,
     "metadata": {},
     "output_type": "execute_result"
    }
   ],
   "source": [
    "# Visualización muestra boostrap #1 para entremiento\n",
    "X_train.iloc[samples[0], :]"
   ]
  },
  {
   "cell_type": "code",
   "execution_count": 10,
   "metadata": {},
   "outputs": [
    {
     "data": {
      "text/html": [
       "<div>\n",
       "<style scoped>\n",
       "    .dataframe tbody tr th:only-of-type {\n",
       "        vertical-align: middle;\n",
       "    }\n",
       "\n",
       "    .dataframe tbody tr th {\n",
       "        vertical-align: top;\n",
       "    }\n",
       "\n",
       "    .dataframe thead tr th {\n",
       "        text-align: left;\n",
       "    }\n",
       "</style>\n",
       "<table border=\"1\" class=\"dataframe\">\n",
       "  <thead>\n",
       "    <tr>\n",
       "      <th></th>\n",
       "      <th>0</th>\n",
       "      <th>1</th>\n",
       "      <th>2</th>\n",
       "      <th>3</th>\n",
       "      <th>4</th>\n",
       "      <th>5</th>\n",
       "      <th>6</th>\n",
       "      <th>7</th>\n",
       "      <th>8</th>\n",
       "      <th>9</th>\n",
       "    </tr>\n",
       "  </thead>\n",
       "  <tbody>\n",
       "    <tr>\n",
       "      <th>257343</th>\n",
       "      <td>14980.0</td>\n",
       "      <td>13993.0</td>\n",
       "      <td>13649.0</td>\n",
       "      <td>13649.0</td>\n",
       "      <td>11788.0</td>\n",
       "      <td>13649.0</td>\n",
       "      <td>13993.0</td>\n",
       "      <td>13990.0</td>\n",
       "      <td>13990.0</td>\n",
       "      <td>13993.0</td>\n",
       "    </tr>\n",
       "    <tr>\n",
       "      <th>326011</th>\n",
       "      <td>6492.0</td>\n",
       "      <td>5995.0</td>\n",
       "      <td>5995.0</td>\n",
       "      <td>6987.0</td>\n",
       "      <td>5995.0</td>\n",
       "      <td>5995.0</td>\n",
       "      <td>5995.0</td>\n",
       "      <td>6987.0</td>\n",
       "      <td>5995.0</td>\n",
       "      <td>5995.0</td>\n",
       "    </tr>\n",
       "    <tr>\n",
       "      <th>242354</th>\n",
       "      <td>16491.0</td>\n",
       "      <td>16995.0</td>\n",
       "      <td>16491.0</td>\n",
       "      <td>15997.0</td>\n",
       "      <td>15997.0</td>\n",
       "      <td>16491.0</td>\n",
       "      <td>17591.0</td>\n",
       "      <td>16995.0</td>\n",
       "      <td>17404.0</td>\n",
       "      <td>16491.0</td>\n",
       "    </tr>\n",
       "    <tr>\n",
       "      <th>266376</th>\n",
       "      <td>21990.0</td>\n",
       "      <td>21990.0</td>\n",
       "      <td>22500.0</td>\n",
       "      <td>21990.0</td>\n",
       "      <td>15900.0</td>\n",
       "      <td>21990.0</td>\n",
       "      <td>22500.0</td>\n",
       "      <td>21990.0</td>\n",
       "      <td>15813.0</td>\n",
       "      <td>21990.0</td>\n",
       "    </tr>\n",
       "    <tr>\n",
       "      <th>396954</th>\n",
       "      <td>15988.0</td>\n",
       "      <td>16951.0</td>\n",
       "      <td>15988.0</td>\n",
       "      <td>15988.0</td>\n",
       "      <td>15988.0</td>\n",
       "      <td>17900.0</td>\n",
       "      <td>16951.0</td>\n",
       "      <td>16951.0</td>\n",
       "      <td>15988.0</td>\n",
       "      <td>15988.0</td>\n",
       "    </tr>\n",
       "    <tr>\n",
       "      <th>...</th>\n",
       "      <td>...</td>\n",
       "      <td>...</td>\n",
       "      <td>...</td>\n",
       "      <td>...</td>\n",
       "      <td>...</td>\n",
       "      <td>...</td>\n",
       "      <td>...</td>\n",
       "      <td>...</td>\n",
       "      <td>...</td>\n",
       "      <td>...</td>\n",
       "    </tr>\n",
       "    <tr>\n",
       "      <th>144298</th>\n",
       "      <td>13836.0</td>\n",
       "      <td>14800.0</td>\n",
       "      <td>14800.0</td>\n",
       "      <td>14800.0</td>\n",
       "      <td>14800.0</td>\n",
       "      <td>14681.0</td>\n",
       "      <td>14800.0</td>\n",
       "      <td>14800.0</td>\n",
       "      <td>13836.0</td>\n",
       "      <td>13836.0</td>\n",
       "    </tr>\n",
       "    <tr>\n",
       "      <th>364521</th>\n",
       "      <td>15999.0</td>\n",
       "      <td>14995.0</td>\n",
       "      <td>15999.0</td>\n",
       "      <td>16900.0</td>\n",
       "      <td>15999.0</td>\n",
       "      <td>15999.0</td>\n",
       "      <td>17300.0</td>\n",
       "      <td>15999.0</td>\n",
       "      <td>16900.0</td>\n",
       "      <td>15000.0</td>\n",
       "    </tr>\n",
       "    <tr>\n",
       "      <th>120072</th>\n",
       "      <td>23533.0</td>\n",
       "      <td>23533.0</td>\n",
       "      <td>20000.0</td>\n",
       "      <td>17700.0</td>\n",
       "      <td>17700.0</td>\n",
       "      <td>23533.0</td>\n",
       "      <td>17700.0</td>\n",
       "      <td>23533.0</td>\n",
       "      <td>23533.0</td>\n",
       "      <td>20000.0</td>\n",
       "    </tr>\n",
       "    <tr>\n",
       "      <th>99878</th>\n",
       "      <td>12989.0</td>\n",
       "      <td>12995.0</td>\n",
       "      <td>12989.0</td>\n",
       "      <td>12995.0</td>\n",
       "      <td>12991.0</td>\n",
       "      <td>12991.0</td>\n",
       "      <td>10995.0</td>\n",
       "      <td>12991.0</td>\n",
       "      <td>12991.0</td>\n",
       "      <td>12893.0</td>\n",
       "    </tr>\n",
       "    <tr>\n",
       "      <th>387162</th>\n",
       "      <td>10991.0</td>\n",
       "      <td>11314.0</td>\n",
       "      <td>12999.0</td>\n",
       "      <td>12995.0</td>\n",
       "      <td>9995.0</td>\n",
       "      <td>11995.0</td>\n",
       "      <td>11985.0</td>\n",
       "      <td>10991.0</td>\n",
       "      <td>11314.0</td>\n",
       "      <td>14995.0</td>\n",
       "    </tr>\n",
       "  </tbody>\n",
       "</table>\n",
       "<p>3464 rows × 10 columns</p>\n",
       "</div>"
      ],
      "text/plain": [
       "              0        1        2        3        4        5        6  \\\n",
       "257343  14980.0  13993.0  13649.0  13649.0  11788.0  13649.0  13993.0   \n",
       "326011   6492.0   5995.0   5995.0   6987.0   5995.0   5995.0   5995.0   \n",
       "242354  16491.0  16995.0  16491.0  15997.0  15997.0  16491.0  17591.0   \n",
       "266376  21990.0  21990.0  22500.0  21990.0  15900.0  21990.0  22500.0   \n",
       "396954  15988.0  16951.0  15988.0  15988.0  15988.0  17900.0  16951.0   \n",
       "...         ...      ...      ...      ...      ...      ...      ...   \n",
       "144298  13836.0  14800.0  14800.0  14800.0  14800.0  14681.0  14800.0   \n",
       "364521  15999.0  14995.0  15999.0  16900.0  15999.0  15999.0  17300.0   \n",
       "120072  23533.0  23533.0  20000.0  17700.0  17700.0  23533.0  17700.0   \n",
       "99878   12989.0  12995.0  12989.0  12995.0  12991.0  12991.0  10995.0   \n",
       "387162  10991.0  11314.0  12999.0  12995.0   9995.0  11995.0  11985.0   \n",
       "\n",
       "              7        8        9  \n",
       "257343  13990.0  13990.0  13993.0  \n",
       "326011   6987.0   5995.0   5995.0  \n",
       "242354  16995.0  17404.0  16491.0  \n",
       "266376  21990.0  15813.0  21990.0  \n",
       "396954  16951.0  15988.0  15988.0  \n",
       "...         ...      ...      ...  \n",
       "144298  14800.0  13836.0  13836.0  \n",
       "364521  15999.0  16900.0  15000.0  \n",
       "120072  23533.0  23533.0  20000.0  \n",
       "99878   12991.0  12991.0  12893.0  \n",
       "387162  10991.0  11314.0  14995.0  \n",
       "\n",
       "[3464 rows x 10 columns]"
      ]
     },
     "execution_count": 10,
     "metadata": {},
     "output_type": "execute_result"
    }
   ],
   "source": [
    "# Construcción un árbol de decisión para cada muestra boostrap\n",
    "\n",
    "from sklearn.tree import DecisionTreeRegressor\n",
    "\n",
    "# Definición del modelo usando DecisionTreeRegressor de sklearn\n",
    "treereg = DecisionTreeRegressor(max_depth=None, random_state=123)\n",
    "\n",
    "# DataFrame para guardar las predicciones de cada árbol\n",
    "y_pred = pd.DataFrame(index=X_test.index, columns=[list(range(n_B))])\n",
    "\n",
    "# Entrenamiento de un árbol sobre cada muestra boostrap y predicción sobre los datos de test\n",
    "for i, sample in enumerate(samples):\n",
    "    XX_train = X_train.iloc[sample, :]\n",
    "    yy_train = y_train.iloc[sample]\n",
    "    treereg.fit(XX_train, yy_train)\n",
    "    y_pred.iloc[:,i] = treereg.predict(X_test)\n",
    "    \n",
    "y_pred"
   ]
  },
  {
   "cell_type": "code",
   "execution_count": 11,
   "metadata": {},
   "outputs": [
    {
     "name": "stdout",
     "output_type": "stream",
     "text": [
      "Árbol  0 tiene un error:  2141.613353645869\n",
      "Árbol  1 tiene un error:  2136.3519863123465\n",
      "Árbol  2 tiene un error:  2122.718759132052\n",
      "Árbol  3 tiene un error:  2087.278992468617\n",
      "Árbol  4 tiene un error:  2168.518742842026\n",
      "Árbol  5 tiene un error:  2113.8811455834793\n",
      "Árbol  6 tiene un error:  2127.933470769012\n",
      "Árbol  7 tiene un error:  2184.414847251443\n",
      "Árbol  8 tiene un error:  2138.1071697514985\n",
      "Árbol  9 tiene un error:  2132.097520859104\n"
     ]
    }
   ],
   "source": [
    "# Desempeño de cada árbol\n",
    "for i in range(n_B):\n",
    "    print('Árbol ', i, 'tiene un error: ', np.sqrt(mean_squared_error(y_pred.iloc[:,i], y_test)))"
   ]
  },
  {
   "cell_type": "code",
   "execution_count": 12,
   "metadata": {},
   "outputs": [
    {
     "data": {
      "text/plain": [
       "257343    13767.4\n",
       "326011     6243.1\n",
       "242354    16694.3\n",
       "266376    20865.3\n",
       "396954    16468.1\n",
       "           ...   \n",
       "144298    14498.9\n",
       "364521    16109.0\n",
       "120072    21076.5\n",
       "99878     12782.0\n",
       "387162    11957.4\n",
       "Length: 3464, dtype: float64"
      ]
     },
     "execution_count": 12,
     "metadata": {},
     "output_type": "execute_result"
    }
   ],
   "source": [
    "# Predicciones promedio para cada obserbación del set de test\n",
    "y_pred.mean(axis=1)"
   ]
  },
  {
   "cell_type": "code",
   "execution_count": 13,
   "metadata": {},
   "outputs": [
    {
     "data": {
      "text/plain": [
       "257343    13767.4\n",
       "326011     6243.1\n",
       "242354    16694.3\n",
       "266376    20865.3\n",
       "396954    16468.1\n",
       "           ...   \n",
       "144298    14498.9\n",
       "364521    16109.0\n",
       "120072    21076.5\n",
       "99878     12782.0\n",
       "387162    11957.4\n",
       "Length: 3464, dtype: float64"
      ]
     },
     "execution_count": 13,
     "metadata": {},
     "output_type": "execute_result"
    }
   ],
   "source": [
    "Ypred2=y_pred.mean(axis=1)\n",
    "Ypred2"
   ]
  },
  {
   "cell_type": "code",
   "execution_count": 14,
   "metadata": {},
   "outputs": [
    {
     "name": "stdout",
     "output_type": "stream",
     "text": [
      "Medidas desempeño Bagging Manual MSE: 3227180.82, R2: 0.79,RMSE: 1796.44, MAE: 1340.02, MAPE: 9.76\n"
     ]
    }
   ],
   "source": [
    "# Error al promediar las predicciones de todos los árboles\n",
    "\n",
    "mse_bm = mean_squared_error(y_true, Ypred2)\n",
    "r2_bm = r2_score(y_true, Ypred2)\n",
    "rmse_bm = np.sqrt(mse_bm)\n",
    "mae_bm = mean_absolute_error(y_true, Ypred2)\n",
    "mape_bm =np.mean(np.abs((y_true - Ypred2) / y_true)) * 100\n",
    "\n",
    "print(\"Medidas desempeño Bagging Manual MSE: {:.2f}, R2: {:.2f},RMSE: {:.2f}, MAE: {:.2f}, MAPE: {:.2f}\".format(mse_bm, r2_bm,rmse_bm, mae_bm,mape_bm))"
   ]
  },
  {
   "cell_type": "markdown",
   "metadata": {},
   "source": [
    "#### Análisis punto 2\n",
    "\n",
    "De acuerdo con el modelo Bagging Manual y sus medidas de desempeño se puede concluir:\n",
    "    \n",
    "* En este caso, el valor de R2 es alto (0.79), lo que sugiere que el modelo es bastante bueno para hacer predicciones.\n",
    "\n",
    "* En este caso, el valor del RMSE es relativamente bajo (1796.44), lo que indica que el modelo tiene un bajo grado de error y es bastante preciso.\n",
    "\n",
    "* Un valor bajo del MAE (como en este caso, 1340.02) sugiere que el modelo es bastante preciso.\n",
    "\n",
    "* El valor bajo del MAPE (9.76) sugiere que el modelo tiene una precisión bastante buena y es confiable para hacer predicciones precisas.\n",
    "\n",
    "\n",
    "Al usar Bagging, se pueden reducir el sesgo y la varianza del modelo, lo que puede conducir a mejores resultados; con los resultados del modelo; se puede indicar que éste es bastante preciso y confiable para hacer predicciones precisas. \n",
    "\n",
    "Además, el uso de la técnica de Bagging puede haber ayudado a mejorar la precisión del modelo frente al anterior. Sin embargo, se deben realizar análisis adicionales para determinar si se pueden mejorar aún más los resultados del modelo y para identificar qué factores están afectando el rendimiento del modelo actual.\n"
   ]
  },
  {
   "cell_type": "markdown",
   "metadata": {},
   "source": [
    "### Punto 3 - Bagging con librería\n",
    "\n",
    "En la celda 3, con la librería sklearn, entrenen un modelo bagging con 10 árboles de regresión y el parámetro `max_features` igual a `log(n_features)` y comenten sobre el desempeño del modelo."
   ]
  },
  {
   "cell_type": "code",
   "execution_count": 21,
   "metadata": {},
   "outputs": [
    {
     "name": "stdout",
     "output_type": "stream",
     "text": [
      "Medidas desempeño Bagging Librería MSE: 7134309.37, R2: 0.53,RMSE: 2671.01, MAE: 2074.98, MAPE: 17.33\n"
     ]
    }
   ],
   "source": [
    "# Celda 3\n",
    "\n",
    "# Calcular el valor de max_features\n",
    "n_features = X_train.shape[1]\n",
    "max_features = int(math.log(n_features))\n",
    "\n",
    "bagreg = BaggingRegressor(DecisionTreeRegressor(), n_estimators=10, \n",
    "                          bootstrap=True, oob_score=True, random_state=1, max_features = max_features)\n",
    "\n",
    "# Entrenamiento del modelo con set de entrenamiento y predicción en el set de test\n",
    "bagreg.fit(X_train, y_train)\n",
    "y_pred = bagreg.predict(X_test)\n",
    "\n",
    "# Cálculo del error del modelo\n",
    "mse_bg = mean_squared_error(y_true, y_pred)\n",
    "r2_bg = r2_score(y_true, y_pred)\n",
    "rmse_bg = np.sqrt(mse_bg)\n",
    "mae_bg = mean_absolute_error(y_true, y_pred)\n",
    "mape_bg =np.mean(np.abs((y_true - y_pred) / y_true)) * 100\n",
    "print(\"Medidas desempeño Bagging Librería MSE: {:.2f}, R2: {:.2f},RMSE: {:.2f}, MAE: {:.2f}, MAPE: {:.2f}\".format(mse_bg, r2_bg,rmse_bg, mae_bg,mape_bg))\n"
   ]
  },
  {
   "cell_type": "markdown",
   "metadata": {},
   "source": [
    "#### Análisis punto 3\n",
    "\n",
    "De acuerdo con el modelo Bagging con librería y sus medidas de desempeño se puede concluir:\n",
    "\n",
    "* El valor de R2 es moderado (0.53), lo que sugiere que el modelo es útil para hacer predicciones, pero que no explica completamente la variabilidad de los datos.\n",
    "\n",
    "* El RMSE es moderado (2671.01), lo que indica que el modelo tiene un grado moderado de error y puede haber algunas inexactitudes en las predicciones.\n",
    "\n",
    "* El valor moderado del MAE (2074.98) sugiere que el modelo puede estar cometiendo algunos errores en sus predicciones, pero no a un nivel muy alto.\n",
    "\n",
    "* El MAPE (17.33) sugiere que el modelo puede estar cometiendo algunos errores en sus predicciones, pero nuevamente, no a un nivel muy alto.\n",
    "\n",
    "* Al usar Bagging, se pueden reducir el sesgo y la varianza del modelo, lo que puede conducir a mejores resultados. En este caso, al utilizar la librería para el modelo Bagging, se puede esperar que el modelo sea más preciso y confiable que un modelo creado manualmente; aunque para este caso no se ha cumplido la hipótesis lo cual puede ser a los parámetros con los que se ha calibrado el ensamble con todas las variables predictoras (10) y con el  \"max_features\" al número  máximo.\n",
    "\n",
    "En resumen, los resultados del modelo Bagging con la librería sugieren que el modelo es útil para hacer predicciones, pero puede haber algunas inexactitudes en las predicciones. El uso de la técnica de Bagging y la librería puede haber ayudado a mejorar la precisión del modelo en comparación con un modelo creado manualmente. Se deben realizar análisis adicionales para identificar qué factores están afectando el rendimiento del modelo actual y para determinar si se pueden mejorar aún más los resultados del modelo."
   ]
  },
  {
   "cell_type": "markdown",
   "metadata": {},
   "source": [
    "### Punto 4 - Random forest con librería\n",
    "\n",
    "En la celda 4, usando la librería sklearn entrenen un modelo de Randon Forest para regresión  y comenten sobre el desempeño del modelo."
   ]
  },
  {
   "cell_type": "code",
   "execution_count": 16,
   "metadata": {},
   "outputs": [
    {
     "name": "stdout",
     "output_type": "stream",
     "text": [
      "Medidas desempeño Random Forest MSE: 3088732.73, R2: 0.80,RMSE: 1757.48, MAE: 1309.21, MAPE: 9.51\n"
     ]
    }
   ],
   "source": [
    "# Celda 4\n",
    "\n",
    "# Definición de modelo Random Forest\n",
    "clf = RandomForestRegressor()\n",
    "\n",
    "# Entrenar el modelo con los datos de entrenamiento\n",
    "clf.fit(X_train, y_train)\n",
    "\n",
    "# Realizar predicciones con el modelo calibrado\n",
    "y_pred = clf.predict(X_test)  # X_test son los datos de prueba\n",
    "\n",
    "# Evaluar el desempeño del modelo\n",
    "mse_rf = mean_squared_error(y_true, y_pred)\n",
    "r2_rf = r2_score(y_true, y_pred)\n",
    "rmse_rf = np.sqrt(mse_rf)\n",
    "mae_rf = mean_absolute_error(y_true, y_pred)\n",
    "mape_rf =np.mean(np.abs((y_true - y_pred) / y_true)) * 100\n",
    "\n",
    "print(\"Medidas desempeño Random Forest MSE: {:.2f}, R2: {:.2f},RMSE: {:.2f}, MAE: {:.2f}, MAPE: {:.2f}\".format(mse_rf, r2_rf,rmse_rf, mae_rf,mape_rf))"
   ]
  },
  {
   "cell_type": "markdown",
   "metadata": {},
   "source": [
    "#### Análisis punto 4\n",
    "\n",
    "De acuerdo con el modelo Random Forest con librería y sus medidas de desempeño se puede concluir:\n",
    "\n",
    "En este caso, el valor de MSE es de 3088732.73, lo que indica que el modelo tiene un buen ajuste a los datos.\n",
    "\n",
    "* En este caso, el valor de R2 es de 0.80, lo que indica que el modelo explica el 80% de la variabilidad en los datos.\n",
    "\n",
    "* El valor de RMSE indica que las predicciones del modelo tienen un error medio de aproximadamente 1757.48 unidades del precio del automóvil.\n",
    "\n",
    "* El valor de MAE sugiere que las predicciones del modelo tienen un error medio absoluto de aproximadamente 1309.21 unidades del precio predicho.\n",
    "\n",
    "* El valor de MAPE indica que las predicciones del modelo tienen un error medio porcentual absoluto de aproximadamente 9.51% en relación con los valores reales de la variable objetivo.\n",
    "\n",
    "En general, se puede decir que el modelo de Random Forest tiene un buen desempeño, ya que tiene un MSE relativamente bajo, un R2 alto y valores de RMSE, MAE y MAPE aceptables para la definición del precio del automóvil."
   ]
  },
  {
   "cell_type": "markdown",
   "metadata": {},
   "source": [
    "### Punto 5 - Calibración de parámetros Random forest\n",
    "\n",
    "En la celda 5, calibren los parámetros max_depth, max_features y n_estimators del modelo de RandomForest para regresión, comenten sobre el desempeño del modelo y describan cómo cada parámetro afecta el desempeño del modelo."
   ]
  },
  {
   "cell_type": "code",
   "execution_count": 17,
   "metadata": {
    "scrolled": false
   },
   "outputs": [
    {
     "name": "stdout",
     "output_type": "stream",
     "text": [
      "Mejor max_depth:  10\n",
      "Mejor max_features:  sqrt\n",
      "Mejor n_estimators:  200\n"
     ]
    },
    {
     "data": {
      "image/png": "[encoded data removed]",
      "text/plain": [
       "<Figure size 432x288 with 1 Axes>"
      ]
     },
     "metadata": {
      "needs_background": "light"
     },
     "output_type": "display_data"
    },
    {
     "data": {
      "image/png": "[encoded data removed]",
      "text/plain": [
       "<Figure size 432x288 with 1 Axes>"
      ]
     },
     "metadata": {
      "needs_background": "light"
     },
     "output_type": "display_data"
    },
    {
     "data": {
      "image/png": "[encoded data removed]",
      "text/plain": [
       "<Figure size 432x288 with 1 Axes>"
      ]
     },
     "metadata": {
      "needs_background": "light"
     },
     "output_type": "display_data"
    },
    {
     "name": "stdout",
     "output_type": "stream",
     "text": [
      "Medidas desempeño Random Forest Calibrado MSE: 2443390.81, R2: 0.84,RMSE: 1563.13, MAE: 1147.23, MAPE: 8.38\n"
     ]
    }
   ],
   "source": [
    "# Crear el modelo de Random Forest\n",
    "rf_model = RandomForestRegressor()\n",
    "\n",
    "# Definir los valores para los parámetros a calibrar\n",
    "param_grid = {\n",
    "    'max_depth': [None, 10, 20, 30],  # Valores a probar para max_depth\n",
    "    'max_features': ['auto', 'sqrt', 'log', 'log2'],  # Valores a probar para max_features\n",
    "    'n_estimators': [10, 50, 100, 200]  # Valores a probar para n_estimators\n",
    "}\n",
    "\n",
    "# Realizar la búsqueda exhaustiva de hiperparámetros utilizando GridSearchCV\n",
    "grid_search = GridSearchCV(estimator=rf_model, param_grid=param_grid, cv=5)\n",
    "grid_search.fit(X_train, y_train)  # X_train, y_train son los datos de entrenamiento\n",
    "\n",
    "# Imprimir los mejores hiperparámetros encontrados\n",
    "print(\"Mejor max_depth: \", grid_search.best_params_['max_depth'])\n",
    "print(\"Mejor max_features: \", grid_search.best_params_['max_features'])\n",
    "print(\"Mejor n_estimators: \", grid_search.best_params_['n_estimators'])\n",
    "\n",
    "# Obtener los resultados de la búsqueda de hiperparámetros\n",
    "results = grid_search.cv_results_\n",
    "\n",
    "# Crear un gráfico de puntos para los resultados de n_estimators\n",
    "sns.scatterplot(x='param_n_estimators', y='mean_test_score', data=results)\n",
    "plt.xlabel('n_estimators')\n",
    "plt.ylabel('Mean Test Score')\n",
    "plt.title('Grid Search Results - n_estimators')\n",
    "plt.show()\n",
    "\n",
    "# Crear un gráfico de puntos para los resultados de max_depth\n",
    "sns.scatterplot(x='param_max_depth', y='mean_test_score', data=results)\n",
    "plt.xlabel('max_depth')\n",
    "plt.ylabel('Mean Test Score')\n",
    "plt.title('Grid Search Results - max_depth')\n",
    "plt.show()\n",
    "\n",
    "# Crear un gráfico de puntos para los resultados de max_features\n",
    "sns.scatterplot(x='param_max_features', y='mean_test_score', data=results)\n",
    "plt.xlabel('max_features')\n",
    "plt.ylabel('Mean Test Score')\n",
    "plt.title('Grid Search Results - max_features')\n",
    "plt.show()\n",
    "\n",
    "# Obtener los mejores valores de los hiperparámetros\n",
    "best_max_depth = grid_search.best_params_['max_depth']\n",
    "best_max_features = grid_search.best_params_['max_features']\n",
    "best_n_estimators = grid_search.best_params_['n_estimators']\n",
    "\n",
    "# Crear un nuevo modelo de Random Forest con los mejores hiperparámetros\n",
    "best_rf_model = RandomForestRegressor(max_depth=best_max_depth, max_features=best_max_features,\n",
    "                                      n_estimators=best_n_estimators)\n",
    "\n",
    "# Entrenar el modelo con los datos de entrenamiento\n",
    "best_rf_model.fit(X_train, y_train)\n",
    "\n",
    "# Realizar predicciones con el modelo calibrado\n",
    "y_pred = best_rf_model.predict(X_test)  # X_test son los datos de prueba\n",
    "\n",
    "# Evaluar el desempeño del modelo\n",
    "mse_best_rf = mean_squared_error(y_test, y_pred)  # y_test son las etiquetas verdaderas de los datos de prueba\n",
    "rmse_best_rf = np.sqrt(mse_best_rf)\n",
    "r2_best_rf = r2_score(y_true, y_pred)\n",
    "mae_best_rf = mean_absolute_error(y_true, y_pred)\n",
    "mape_best_rf =np.mean(np.abs((y_true - y_pred) / y_true)) * 100\n",
    "\n",
    "print(\"Medidas desempeño Random Forest Calibrado MSE: {:.2f}, R2: {:.2f},RMSE: {:.2f}, MAE: {:.2f}, MAPE: {:.2f}\".format(mse_best_rf, r2_best_rf,rmse_best_rf, mae_best_rf,mape_best_rf))"
   ]
  },
  {
   "cell_type": "markdown",
   "metadata": {},
   "source": [
    "#### Análisis punto 5\n",
    "\n",
    "El modelo calibrado obtuvo mejores metricas frente al no calibrado en el punto anterior:\n",
    "- MSE: 2443390.81 vs 3088732.73 (punto 4)\n",
    "- R2: 0.84 vs 0.80 (punto 4)\n",
    "- RMSE: 1563.13 vs 1757.48 (punto 4)\n",
    "- MAE: 1147.23 vs 1309.21 (punto 4)\n",
    "- MAPE: 8.38 vs 9.51 (punto 4)\n",
    "\n",
    "Centrándonos en el MAPE, el promedio de los errores porcentuales es de 8.38 frente al 9.51 que obtuvimos en el modelo sin calibración, es decir 0.93% menos, logrando una mejor capacidad para hacer predicciones más precisas del Precio del automóvil.\n",
    "\n",
    "En el desarrollo del modelo de Random Forest de este punto se calibraron los parametros max_depth, max_features y n_estimators de acuerdo a los siguientes parametros:\n",
    "1. max_depth: None, **10**, 20, 30\n",
    "2. max_features: auto, **sqrt**, log', log2\n",
    "3. n_estimators: 10, 50, 100, **200**\n",
    "\n",
    "* El primero de estos, \"max_depth\", corresponde al número maximo de arboles que puede tener un arbol en el modelo. Entre más alto sea el valor de este parametro, mayor es la posibilidad de que el modelo se sobreajuste a los datos de entrenamiento. En el ejercicio podemos observar mejor parametro para \"max_depth\" fue de 10 en este caso.\n",
    "\n",
    "* El segundo parametro calibrado, \"max_features\", corresponde al número máximo de características que se utilizan para cada árbol del modelo. Al igual que el anterior parametro, un mayor número de caractericticas como en cada arbol, conllevará a sobreajustes, capturando el desempeño de los datos de entrenamiento. En el ejercicio podemos observar que el mejor parametro para \"max_features\" dentro de los evaluados corresponde al sqrt, siendo la raíz cuadrada del número total de características.\n",
    "\n",
    "* Por último, \"n_estimators\" hace referencia al número de arboles de decisión que se utilizarán en la construcción del modelo Random Forest. Entre más alto sea este parámetro, mayor puede ser la precisión del modelo, pero mayor será el tiempo de entrenamiento y la complejidad del modelo, conllevando a sobreajustes frente a los datos de entrenamiento. En el ejercicio, el mejor parametro para \"n_estimators\" dentro de los evaluados es de 200.\n",
    "\n",
    "Es importante considerar los tres parámetros, max_depth, max_features y n_estimators, ya que tienen un impacto significativo en el modelo de Random Forest. Un ajuste apropiado de estos parámetros es crucial para obtener un modelo preciso y estable, que tenga una alta capacidad de generalización. "
   ]
  },
  {
   "cell_type": "markdown",
   "metadata": {},
   "source": [
    "### Punto 6 - XGBoost con librería\n",
    "\n",
    "En la celda 6 implementen un modelo XGBoost de regresión con la librería sklearn y comenten sobre el desempeño del modelo."
   ]
  },
  {
   "cell_type": "code",
   "execution_count": 18,
   "metadata": {},
   "outputs": [
    {
     "name": "stdout",
     "output_type": "stream",
     "text": [
      "Medidas desempeño XGBoost MSE: 2629001.84, R2: 0.83,RMSE: 1621.42, MAE: 1186.63, MAPE: 8.65\n"
     ]
    }
   ],
   "source": [
    "# Celda 6\n",
    "clf = xgb.XGBRegressor()\n",
    "clf.fit(X_train, y_train)\n",
    "y_pred = clf.predict(X_test)\n",
    "\n",
    "# Evaluar el desempeño del modelo\n",
    "mse_xgb = mean_squared_error(y_test, y_pred)  # y_test son las etiquetas verdaderas de los datos de prueba\n",
    "rmse_xgb = np.sqrt(mse_xgb)\n",
    "r2_xgb = r2_score(y_true, y_pred)\n",
    "mae_xgb = mean_absolute_error(y_true, y_pred)\n",
    "mape_xgb =np.mean(np.abs((y_true - y_pred) / y_true)) * 100\n",
    "\n",
    "print(\"Medidas desempeño XGBoost MSE: {:.2f}, R2: {:.2f},RMSE: {:.2f}, MAE: {:.2f}, MAPE: {:.2f}\".format(mse_xgb, r2_xgb,rmse_xgb, mae_xgb,mape_xgb))"
   ]
  },
  {
   "cell_type": "markdown",
   "metadata": {},
   "source": [
    "#### Análisis punto 6\n",
    "\n",
    "Al desarrollar el modelo XGBoost, sin calibrar sus parametros obtuvimos los siguientes indicadores de desempeño.\n",
    "- MSE: 2629001.84\n",
    "- R2: 0.83\n",
    "- RMSE: 1621.42\n",
    "- MAE: 1186.63\n",
    "- MAPE: 8.65\n",
    "\n",
    "Con lo anterior, el modelo sin calibrar presenta un MAPE de 8.65, lo cual se puede traducir como que en promedio las predicciones del modelo tienen un error absoluto de 8.65%. con un error cuadratico medio (MSE) de 2629001 y un buen desempeño en general para la predicción dle precio."
   ]
  },
  {
   "cell_type": "markdown",
   "metadata": {},
   "source": [
    "### Punto 7 - Calibración de parámetros XGBoost\n",
    "\n",
    "En la celda 7 calibren los parámetros learning rate, gamma y colsample_bytree del modelo XGBoost para regresión, comenten sobre el desempeño del modelo y describan cómo cada parámetro afecta el desempeño del modelo."
   ]
  },
  {
   "cell_type": "code",
   "execution_count": 19,
   "metadata": {},
   "outputs": [
    {
     "name": "stdout",
     "output_type": "stream",
     "text": [
      "Mejor learning_rate:  0.1\n",
      "Mejor gamma:  0\n",
      "Mejor colsample_bytree:  0.8\n"
     ]
    },
    {
     "data": {
      "image/png": "[encoded data removed]",
      "text/plain": [
       "<Figure size 432x288 with 1 Axes>"
      ]
     },
     "metadata": {
      "needs_background": "light"
     },
     "output_type": "display_data"
    },
    {
     "data": {
      "image/png": "[encoded data removed]",
      "text/plain": [
       "<Figure size 432x288 with 1 Axes>"
      ]
     },
     "metadata": {
      "needs_background": "light"
     },
     "output_type": "display_data"
    },
    {
     "data": {
      "image/png": "[encoded data removed]",
      "text/plain": [
       "<Figure size 432x288 with 1 Axes>"
      ]
     },
     "metadata": {
      "needs_background": "light"
     },
     "output_type": "display_data"
    },
    {
     "name": "stdout",
     "output_type": "stream",
     "text": [
      "Medidas desempeño XGBoost Calibrado MSE: 2402133.86, R2: 0.84,RMSE: 1549.88, MAE: 1136.64, MAPE: 8.26\n"
     ]
    }
   ],
   "source": [
    "# Celda 7\n",
    "\n",
    "# Crear un regresor de XGBoost\n",
    "xgb_model = xgb.XGBRegressor()\n",
    "\n",
    "# Definir los parámetros y los rangos de búsqueda para la calibración\n",
    "params = {\n",
    "    'learning_rate': [0.01, 0.1, 0.2, 0.3], # Valores a probar para learning_rate\n",
    "    'gamma': [0, 0.1, 0.2, 0.3, 0.4], # Valores a probar para gamma\n",
    "    'colsample_bytree': [0.6, 0.7, 0.8, 0.9] # Valores a probar para colsample_bytree\n",
    "}\n",
    "\n",
    "# Realizar búsqueda de hiperparámetros utilizando validación cruzada\n",
    "grid_search = GridSearchCV(xgb_model, params, cv=5)\n",
    "grid_search.fit(X_train, y_train)\n",
    "\n",
    "# Imprimir los mejores hiperparámetros encontrados\n",
    "print(\"Mejor learning_rate: \", grid_search.best_params_['learning_rate'])\n",
    "print(\"Mejor gamma: \", grid_search.best_params_['gamma'])\n",
    "print(\"Mejor colsample_bytree: \", grid_search.best_params_['colsample_bytree'])\n",
    "\n",
    "# Obtener los resultados de la búsqueda de hiperparámetros\n",
    "results = grid_search.cv_results_\n",
    "\n",
    "# Crear un gráfico de puntos para los resultados de n_estimators\n",
    "sns.scatterplot(x='param_learning_rate', y='mean_test_score', data=results)\n",
    "plt.xlabel('learning_rate')\n",
    "plt.ylabel('Mean Test Score')\n",
    "plt.title('Grid Search Results - learning_rate')\n",
    "plt.show()\n",
    "\n",
    "# Crear un gráfico de puntos para los resultados de max_depth\n",
    "sns.scatterplot(x='param_gamma', y='mean_test_score', data=results)\n",
    "plt.xlabel('gamma')\n",
    "plt.ylabel('Mean Test Score')\n",
    "plt.title('Grid Search Results - gamma')\n",
    "plt.show()\n",
    "\n",
    "# Crear un gráfico de puntos para los resultados de max_features\n",
    "sns.scatterplot(x='param_colsample_bytree', y='mean_test_score', data=results)\n",
    "plt.xlabel('colsample_bytree')\n",
    "plt.ylabel('Mean Test Score')\n",
    "plt.title('Grid Search Results - colsample_bytree')\n",
    "plt.show()\n",
    "\n",
    "# Obtener los mejores valores de los hiperparámetros\n",
    "best_learning_rate = grid_search.best_params_['learning_rate']\n",
    "best_gamma = grid_search.best_params_['gamma']\n",
    "best_colsample_bytree = grid_search.best_params_['colsample_bytree']\n",
    "\n",
    "# Crear un nuevo modelo de XGB con los mejores hiperparámetros\n",
    "best_xgb_model = xgb.XGBRegressor(learning_rate = best_learning_rate, gamma = best_gamma, colsample_bytree = best_colsample_bytree)\n",
    "\n",
    "# Entrenar el modelo con los datos de entrenamiento\n",
    "best_xgb_model.fit(X_train, y_train)\n",
    "\n",
    "# Realizar predicciones con el modelo calibrado\n",
    "y_pred = best_xgb_model.predict(X_test)  # X_test son los datos de prueba\n",
    "\n",
    "# Evaluar el desempeño del modelo\n",
    "mse_best_xgb = mean_squared_error(y_test, y_pred)  # y_test son las etiquetas verdaderas de los datos de prueba\n",
    "rmse_best_xgb = np.sqrt(mse_best_xgb)\n",
    "r2_best_xgb = r2_score(y_true, y_pred)\n",
    "mae_best_xgb = mean_absolute_error(y_true, y_pred)\n",
    "mape_best_xgb =np.mean(np.abs((y_true - y_pred) / y_true)) * 100\n",
    "\n",
    "print(\"Medidas desempeño XGBoost Calibrado MSE: {:.2f}, R2: {:.2f},RMSE: {:.2f}, MAE: {:.2f}, MAPE: {:.2f}\".format(mse_best_xgb, r2_best_xgb,rmse_best_xgb, mae_best_xgb,mape_best_xgb))"
   ]
  },
  {
   "cell_type": "markdown",
   "metadata": {},
   "source": [
    "#### Análisis punto 7\n",
    "\n",
    "Al desarrollar el modelo XGBoost calibrando sus parametros obtuvimos mejoría en tres indicadores de desempeño frente a los vistos en el punto anterior.\n",
    "- MSE: 2402133.86 vs 2629001.84 (punto 6)\n",
    "- R2: 0.84 vs 0.83 (punto6)\n",
    "- RMSE: 1549.88 vs 1621.42 (punto 6)\n",
    "- MAE: 1136.64, vs 1186.63 (punto 6)\n",
    "- MAPE: 8.26 vs 8.65 (punto 6)\n",
    "\n",
    "Centrandonos en el MAPE, el promedio de los errores porcentuales del modelo XGBoost calibrado es de 8.26 frente al 8.65 que obtuvimos en el modelo sin calibración, es decir 0.39% menos.\n",
    "\n",
    "En la calibración del modelo se utilizaron los siguientes valores sobre los parametros indicados:\n",
    "\n",
    "- learning_rate: 0.01, **0.1**, 0.2, 0.3\n",
    "- gamma: **0**, 0.1, 0.2, 0.3, 0.4\n",
    "- colsample_bytree: 0.6, 0.7, **0.8**, 0.9\n",
    "\n",
    "* El primer elemento a calibrar, \"learning_rate\", corresponde a la tasa de aprendizaje con la cual el modelo actualizará los pesos de los arboles en para iteración en el proceso de entrenamiento. \n",
    "\n",
    "* La definición de esta tasa impactara el tiempo con el que el modelo encontrará una solución optima, con lo cual un alto valor en este parametro hará que el modelo se desarrolle más rapidamente, pero se sobreajuste. En contra parte, un menor valor en este parametro mejorará la capacidad del modelo para generalizar. En linea con lo anterior, en nuestro caso, tras evaluar 4 valores, el mejor parametro fue 0.1.\n",
    "\n",
    "* Frente al parametro gamma, corresponde al valor con el cual el modelo aplicará la restricción de ganancia mínima de partición durante el entrenamiento. En este caso si el valor es bajo el modelo divide el conjunto de datos en demasiados nodos, lo que dará lugar a un modelo más complejo que podría estar sobreajustado, un valor alto conllevara a un modelo más simple con menor precisión, y en caso de ser 0 el modelo no aplicará restricción de ganancia y así podrá hacer un mayor número de particiones.\n",
    "\n",
    "* Por último, el parametro colsample_bytree ajusta la proporción de caracteristicas que se utilizaran en cada arbol en el proceso de entrenamiento. En linea con esto, este parametro debe estar entre 0 y 1, consideran que el valor de 1 hará que todas las caracteristicas de la base de datos se utilicen en el proceso de entrenamiento, lo cual conllevara a sobreajustes sobre estos datos. En nuestro caso el mejor valor evaluado fue de 0.8."
   ]
  },
  {
   "cell_type": "markdown",
   "metadata": {},
   "source": [
    "### Punto 8 - Comparación y análisis de resultados\n",
    "En la celda 8 comparen los resultados obtenidos de los diferentes modelos (random forest y XGBoost) y comenten las ventajas del mejor modelo y las desventajas del modelo con el menor desempeño."
   ]
  },
  {
   "cell_type": "code",
   "execution_count": 20,
   "metadata": {},
   "outputs": [
    {
     "data": {
      "text/html": [
       "<div>\n",
       "<style scoped>\n",
       "    .dataframe tbody tr th:only-of-type {\n",
       "        vertical-align: middle;\n",
       "    }\n",
       "\n",
       "    .dataframe tbody tr th {\n",
       "        vertical-align: top;\n",
       "    }\n",
       "\n",
       "    .dataframe thead th {\n",
       "        text-align: right;\n",
       "    }\n",
       "</style>\n",
       "<table border=\"1\" class=\"dataframe\">\n",
       "  <thead>\n",
       "    <tr style=\"text-align: right;\">\n",
       "      <th></th>\n",
       "      <th>Árbol Manual</th>\n",
       "      <th>Bagging Manual</th>\n",
       "      <th>Bagging Librería</th>\n",
       "      <th>Random Forest</th>\n",
       "      <th>Random Calibrado</th>\n",
       "      <th>XGBoost</th>\n",
       "      <th>XGBoost Calibrado</th>\n",
       "    </tr>\n",
       "  </thead>\n",
       "  <tbody>\n",
       "    <tr>\n",
       "      <th>MSE</th>\n",
       "      <td>2.147223e+08</td>\n",
       "      <td>3.227181e+06</td>\n",
       "      <td>3.227181e+06</td>\n",
       "      <td>3.088733e+06</td>\n",
       "      <td>2.443391e+06</td>\n",
       "      <td>2.629002e+06</td>\n",
       "      <td>2.402134e+06</td>\n",
       "    </tr>\n",
       "    <tr>\n",
       "      <th>RMSE</th>\n",
       "      <td>-1.303770e+01</td>\n",
       "      <td>7.890000e-01</td>\n",
       "      <td>7.890200e-01</td>\n",
       "      <td>7.980712e-01</td>\n",
       "      <td>8.402610e-01</td>\n",
       "      <td>8.281265e-01</td>\n",
       "      <td>8.429582e-01</td>\n",
       "    </tr>\n",
       "    <tr>\n",
       "      <th>R2</th>\n",
       "      <td>1.465341e+04</td>\n",
       "      <td>1.796436e+03</td>\n",
       "      <td>1.796436e+03</td>\n",
       "      <td>1.757479e+03</td>\n",
       "      <td>1.563135e+03</td>\n",
       "      <td>1.621420e+03</td>\n",
       "      <td>1.549882e+03</td>\n",
       "    </tr>\n",
       "    <tr>\n",
       "      <th>MAE</th>\n",
       "      <td>1.387751e+04</td>\n",
       "      <td>1.340016e+03</td>\n",
       "      <td>1.340016e+03</td>\n",
       "      <td>1.309211e+03</td>\n",
       "      <td>1.147234e+03</td>\n",
       "      <td>1.186634e+03</td>\n",
       "      <td>1.136644e+03</td>\n",
       "    </tr>\n",
       "    <tr>\n",
       "      <th>MAPE</th>\n",
       "      <td>9.530660e+01</td>\n",
       "      <td>9.762300e+00</td>\n",
       "      <td>9.762286e+00</td>\n",
       "      <td>9.506345e+00</td>\n",
       "      <td>8.381690e+00</td>\n",
       "      <td>8.648872e+00</td>\n",
       "      <td>8.258863e+00</td>\n",
       "    </tr>\n",
       "  </tbody>\n",
       "</table>\n",
       "</div>"
      ],
      "text/plain": [
       "      Árbol Manual  Bagging Manual  Bagging Librería  Random Forest  \\\n",
       "MSE   2.147223e+08    3.227181e+06      3.227181e+06   3.088733e+06   \n",
       "RMSE -1.303770e+01    7.890000e-01      7.890200e-01   7.980712e-01   \n",
       "R2    1.465341e+04    1.796436e+03      1.796436e+03   1.757479e+03   \n",
       "MAE   1.387751e+04    1.340016e+03      1.340016e+03   1.309211e+03   \n",
       "MAPE  9.530660e+01    9.762300e+00      9.762286e+00   9.506345e+00   \n",
       "\n",
       "      Random Calibrado       XGBoost  XGBoost Calibrado  \n",
       "MSE       2.443391e+06  2.629002e+06       2.402134e+06  \n",
       "RMSE      8.402610e-01  8.281265e-01       8.429582e-01  \n",
       "R2        1.563135e+03  1.621420e+03       1.549882e+03  \n",
       "MAE       1.147234e+03  1.186634e+03       1.136644e+03  \n",
       "MAPE      8.381690e+00  8.648872e+00       8.258863e+00  "
      ]
     },
     "execution_count": 20,
     "metadata": {},
     "output_type": "execute_result"
    }
   ],
   "source": [
    "# Celda 8\n",
    "# Crear una lista con los nombres de las filas\n",
    "filas = ['MSE', 'RMSE', 'R2', 'MAE','MAPE']\n",
    "\n",
    "# Crear un diccionario con los datos de las columnas\n",
    "datos = {'Árbol Manual': [round(mse1,4), round(r21,4),round(rmse1,4), round(mae1,4),round(mape1,4)],\n",
    "         'Bagging Manual': [round(mse_bm,4), round(r2_bm,4),round(rmse_bm,4), round(mae_bm,4),round(mape_bm,4)],\n",
    "         'Bagging Librería': [mse_bm, r2_bm,rmse_bm, mae_bm,mape_bm],\n",
    "         'Random Forest': [mse_rf, r2_rf,rmse_rf, mae_rf,mape_rf],\n",
    "         'Random Calibrado': [mse_best_rf, r2_best_rf,rmse_best_rf, mae_best_rf,mape_best_rf],\n",
    "         'XGBoost': [mse_xgb, r2_xgb,rmse_xgb, mae_xgb,mape_xgb],\n",
    "         'XGBoost Calibrado': [mse_best_xgb, r2_best_xgb,rmse_best_xgb, mae_best_xgb,mape_best_xgb]\n",
    "        }\n",
    "\n",
    "# Crear el DataFrame con los nombres de filas y columnas\n",
    "tabla = pd.DataFrame(datos, index=filas)\n",
    "tabla"
   ]
  },
  {
   "cell_type": "markdown",
   "metadata": {},
   "source": [
    "## Análisis Punto 8\n",
    "\n",
    "Se listan los hallazgos encontrados de acuerdo con las medidas de desempeño:\n",
    "\n",
    "* Árbol Manual: Este modelo tiene un MSE alto y un R2 bajo, lo que indica un rendimiento pobre en términos de la capacidad de explicar la variabilidad en los datos y de la precisión de las predicciones. El MAE y el MAPE son muy altos, lo que indica una gran cantidad de errores en las predicciones.\n",
    "\n",
    "* Bagging Manual: Este modelo tiene un MSE relativamente bajo y un R2 más alto que el Árbol Manual, lo que sugiere una mejora en la capacidad de explicar la variabilidad en los datos y de la precisión de las predicciones. El MAE y el MAPE también son más bajos que el Árbol Manual, lo que indica una mejora en la precisión de las predicciones.\n",
    "\n",
    "* Bagging Librería: Este modelo tiene medidas de desempeño similares al Bagging Manual, lo que indica que la implementación de la librería no ha mejorado significativamente el rendimiento del modelo.\n",
    "\n",
    "* Random Forest: Este modelo tiene un MSE bajo y un R2 alto, lo que indica un buen rendimiento en términos de la capacidad de explicar la variabilidad en los datos y de la precisión de las predicciones. El RMSE, MAE y MAPE también son bajos, lo que indica una alta precisión en las predicciones.\n",
    "\n",
    "* Random Calibrado: Este modelo tiene un MSE más bajo que el Random Forest, lo que indica una mejora en la precisión de las predicciones. El R2, RMSE, MAE y MAPE son similares al Random Forest, lo que sugiere un rendimiento similar en general.\n",
    "\n",
    "* XGBoost: Este modelo tiene un MSE y un R2 más bajos que el Random Forest, lo que indica un rendimiento ligeramente inferior en términos de la capacidad de explicar la variabilidad en los datos y de la precisión de las predicciones. Sin embargo, el RMSE, MAE y MAPE son más bajos que el Random Forest, lo que indica una mayor precisión en las predicciones.\n",
    "\n",
    "* XGBoost Calibrado: Este modelo tiene medidas de desempeño similares al XGBoost, lo que indica que la calibración no ha mejorado significativamente el rendimiento del modelo.\n",
    "\n",
    "El Random Forest y el XGBoost son los modelos que tienen un mejor desempeño en términos de precisión de las predicciones, mientras que el Árbol Manual es el que tiene el peor desempeño"
   ]
  },
  {
   "cell_type": "code",
   "execution_count": null,
   "metadata": {},
   "outputs": [],
   "source": []
  }
 ],
 "metadata": {
  "kernelspec": {
   "display_name": "Python 3 (ipykernel)",
   "language": "python",
   "name": "python3"
  },
  "language_info": {
   "codemirror_mode": {
    "name": "ipython",
    "version": 3
   },
   "file_extension": ".py",
   "mimetype": "text/x-python",
   "name": "python",
   "nbconvert_exporter": "python",
   "pygments_lexer": "ipython3",
   "version": "3.9.7"
  }
 },
 "nbformat": 4,
 "nbformat_minor": 4
}
