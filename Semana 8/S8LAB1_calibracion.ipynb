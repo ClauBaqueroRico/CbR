{
 "cells": [
  {
   "cell_type": "markdown",
   "metadata": {
    "id": "JobAyJx67Jrm"
   },
   "source": [
    "![image info](https://raw.githubusercontent.com/albahnsen/MIAD_ML_and_NLP/main/images/banner_1.png)"
   ]
  },
  {
   "cell_type": "markdown",
   "metadata": {
    "id": "7n14bqXe7NO8"
   },
   "source": [
    "# Calibración de parámetros de redes neuronales\n",
    "En este notebook aprenderá a calibrar parámetros de redes neuronales con dos diferentes metodologías usando la librería Keras y sklearn.model_selection."
   ]
  },
  {
   "cell_type": "markdown",
   "metadata": {
    "id": "CJSdZveh7lg-"
   },
   "source": [
    "## Instrucciones Generales\n",
    "\n",
    "Este notebook esta compuesto por tres secciones. En la primera sección, usted beberá calibrar una red neuronal para predecir el precio de una casa con el set de datos Boston Housing Data y con el método de busqueda por cuadrícula (Grid Search). En la segunda, se usará el mismo dataset pero usted beberá calibrar la red neuronal con el método de busqueda aleatoria (Randomized Search), lo que le permitirá identificar las ventajas y diferencias entre los dos métodos. Para conocer más detalles de la base, puede ingresar al siguiente [vínculo](https://archive.ics.uci.edu/ml/machine-learning-databases/housing/).\n",
    "   \n",
    "Para realizar la actividad, solo siga las indicaciones asociadas a cada celda del notebook. "
   ]
  },
  {
   "cell_type": "markdown",
   "metadata": {
    "id": "gOGLBrdc94q8"
   },
   "source": [
    "## Importar base de datos y librerías"
   ]
  },
  {
   "cell_type": "code",
   "execution_count": null,
   "metadata": {},
   "outputs": [],
   "source": [
    "import warnings\n",
    "warnings.filterwarnings('ignore')"
   ]
  },
  {
   "cell_type": "code",
   "execution_count": null,
   "metadata": {
    "id": "kbt-2z_VBZ-p"
   },
   "outputs": [],
   "source": [
    "# Importación librerías\n",
    "import pandas as pd\n",
    "from sklearn.datasets import load_boston\n",
    "import numpy as np\n",
    "import matplotlib.pyplot as plt\n",
    "from sklearn.model_selection import train_test_split\n",
    "from sklearn.preprocessing import StandardScaler"
   ]
  },
  {
   "cell_type": "code",
   "execution_count": null,
   "metadata": {
    "colab": {
     "base_uri": "https://localhost:8080/",
     "height": 206
    },
    "id": "5p1mbuz_BqR0",
    "outputId": "f3c689ba-271f-44ca-8fdf-d95708cca34a"
   },
   "outputs": [],
   "source": [
    "from sklearn.datasets import load_boston\n",
    "# Carga de datos de la librería sklearn\n",
    "boston_dataset = load_boston()\n",
    "boston = pd.DataFrame(boston_dataset.data, columns=boston_dataset.feature_names)\n",
    "boston.head()"
   ]
  },
  {
   "cell_type": "markdown",
   "metadata": {
    "id": "gJhBGPZZ99ME"
   },
   "source": [
    "## Definición de variables predictoras  y de interés"
   ]
  },
  {
   "cell_type": "code",
   "execution_count": null,
   "metadata": {
    "id": "YF-qHy3cBqKT"
   },
   "outputs": [],
   "source": [
    "# Definición de variables predictoras (X)\n",
    "X = boston.drop(boston.columns[-1],axis=1)\n",
    "# Definición de variable de interés (y)\n",
    "Y = pd.DataFrame(np.array(boston_dataset.target), columns=['labels'])"
   ]
  },
  {
   "cell_type": "code",
   "execution_count": null,
   "metadata": {
    "id": "ekbRHWCMBqHc"
   },
   "outputs": [],
   "source": [
    "# Separación de variables predictoras (X) y variable de interés (y) en set de entrenamiento y test usando la función train_test_split\n",
    "X_train, X_test , Y_train, Y_test = train_test_split(X,Y, test_size=0.3 ,random_state=22)"
   ]
  },
  {
   "cell_type": "code",
   "execution_count": null,
   "metadata": {
    "id": "uLls8jzgBvFn"
   },
   "outputs": [],
   "source": [
    "# Normalización de variables predictoras (X) con la función StandardScaler\n",
    "\n",
    "# Definición de la función StandardScaler\n",
    "scaler = StandardScaler()\n",
    "scaler.fit(X)\n",
    "\n",
    "# Transformación de los set de entrenamiento y test\n",
    "X_train = pd.DataFrame(data=scaler.transform(X_train), columns=X_train.columns, index=X_train.index)\n",
    "X_test = pd.DataFrame(data=scaler.transform(X_test), columns=X_test.columns, index=X_test.index)\n",
    "\n",
    "X_train = np.array(X_train)\n",
    "Y_train = np.array(Y_train)\n",
    "\n",
    "X_test = np.array(X_test)\n",
    "Y_test = np.array(Y_test)"
   ]
  },
  {
   "cell_type": "code",
   "execution_count": null,
   "metadata": {
    "colab": {
     "base_uri": "https://localhost:8080/"
    },
    "id": "M9v1UsRfBvDB",
    "outputId": "70506311-a640-44ce-9cd3-940b3510e246"
   },
   "outputs": [],
   "source": [
    "# Definición de dimensiones de salida (variables de interés)\n",
    "output_var = Y_train.shape[1]\n",
    "print(output_var, ' output variables')"
   ]
  },
  {
   "cell_type": "code",
   "execution_count": null,
   "metadata": {
    "colab": {
     "base_uri": "https://localhost:8080/"
    },
    "id": "r3qYY0pQBvAv",
    "outputId": "9b39cdc3-eeb0-4bbc-ce16-f8b606e000b0"
   },
   "outputs": [],
   "source": [
    "# Definición de dimensiones de entrada (variables predictoras)\n",
    "dims = X_train.shape[1]\n",
    "print(dims, 'input variables')"
   ]
  },
  {
   "cell_type": "code",
   "execution_count": null,
   "metadata": {
    "id": "TeUQHtBD--6O"
   },
   "outputs": [],
   "source": [
    "# Separación de datos de entrenamiento para considerar un set de validación durante entrenamiento\n",
    "X_train, X_val, Y_train, Y_val = train_test_split(X_train, Y_train, test_size=0.15, random_state=42)"
   ]
  },
  {
   "cell_type": "markdown",
   "metadata": {
    "id": "monq1M5YCY1i"
   },
   "source": [
    "## Red Neuronal\n",
    "\n",
    "En esta sección se construirá un modelo de red neuronal mediante una función (*nn_model_params*) que parametriza los diferentes parámetros a calibrar. "
   ]
  },
  {
   "cell_type": "code",
   "execution_count": null,
   "metadata": {
    "colab": {
     "base_uri": "https://localhost:8080/"
    },
    "id": "19gHI5k3SUI-",
    "outputId": "55aa4ed9-897c-4eb5-8846-cc56dba47f3b",
    "scrolled": true
   },
   "outputs": [],
   "source": [
    "# Para correr esta sección instale la librería livelossplot\n",
    "pip install livelossplot"
   ]
  },
  {
   "cell_type": "code",
   "execution_count": null,
   "metadata": {
    "id": "aaOKn_dwCZKq"
   },
   "outputs": [],
   "source": [
    "# Importación librerías\n",
    "from keras.models import Sequential, Model\n",
    "from keras.layers import Dense, Input\n",
    "from keras import metrics\n",
    "from keras.wrappers.scikit_learn import KerasClassifier, KerasRegressor\n",
    "from keras.callbacks import EarlyStopping\n",
    "from keras import backend as K\n",
    "from livelossplot import PlotLossesKeras"
   ]
  },
  {
   "cell_type": "code",
   "execution_count": null,
   "metadata": {
    "id": "jMfssAh9ClOS"
   },
   "outputs": [],
   "source": [
    "# Definición de función que crea una red neuronal a partir de diferentes parámetros (nn_model_params)\n",
    "# En esta función se consideran 7 parámetos a calibrar, sin embargo se pueden agregar o quitar tantos como lo consideren pertinente\n",
    "def nn_model_params(optimizer ,\n",
    "                    neurons,\n",
    "                    batch_size,\n",
    "                    epochs,\n",
    "                    activation,\n",
    "                    patience,\n",
    "                    loss):\n",
    "    \n",
    "    K.clear_session()\n",
    "\n",
    "    # Definición red neuronal con la función Sequential()\n",
    "    model = Sequential()\n",
    "    \n",
    "    # Definición de las capas de la red con el número de neuronas y la función de activación definidos en la función nn_model_params\n",
    "    model.add(Dense(neurons, input_shape=(dims,), activation=activation))\n",
    "    model.add(Dense(neurons, activation=activation))\n",
    "    model.add(Dense(output_var, activation=activation))\n",
    "\n",
    "    # Definición de función de perdida con parámetros definidos en la función nn_model_params\n",
    "    model.compile(optimizer = optimizer, loss=loss)\n",
    "    \n",
    "    # Definición de la función EarlyStopping con parámetro definido en la función nn_model_params\n",
    "    early_stopping = EarlyStopping(monitor=\"val_loss\", patience = patience)\n",
    "\n",
    "    # Entrenamiento de la red neuronal con parámetros definidos en la función nn_model_params\n",
    "    model.fit(X_train, Y_train,\n",
    "              validation_data = (X_val, Y_val),\n",
    "              epochs=epochs,\n",
    "              batch_size=batch_size,\n",
    "              callbacks=[early_stopping, PlotLossesKeras()],\n",
    "              verbose=True\n",
    "              )\n",
    "     \n",
    "    return model"
   ]
  },
  {
   "cell_type": "code",
   "execution_count": null,
   "metadata": {
    "id": "pMahbr2O7DcX"
   },
   "outputs": [],
   "source": [
    "# Definición de parámetros y sus valores sobre los que se va a calibrar\n",
    "nn_params = {\n",
    "    'optimizer': ['adam','sgd'],\n",
    "    'activation': ['relu'],\n",
    "    'batch_size': [64,128],\n",
    "    'neurons':[64,256],\n",
    "    'epochs':[20,50],\n",
    "    'patience':[2,5],\n",
    "    'loss':['mean_squared_error']\n",
    "}"
   ]
  },
  {
   "cell_type": "markdown",
   "metadata": {
    "id": "WMxeJIDU-Ex7"
   },
   "source": [
    "## Método busqueda por cuadrícula (Grid Search)\n",
    "\n",
    "La búsqueda por cuadrícula es un método de calibración de parámetros donde se considera exhaustivamente todas las combinaciones de parámetros de un conjunto determinado."
   ]
  },
  {
   "cell_type": "code",
   "execution_count": null,
   "metadata": {
    "colab": {
     "base_uri": "https://localhost:8080/",
     "height": 674
    },
    "id": "60H_vZzrColz",
    "outputId": "b1bdbc86-fa94-4425-8b1a-572ff814ea9f"
   },
   "outputs": [],
   "source": [
    "from sklearn.model_selection import GridSearchCV\n",
    "\n",
    "# Definición de red neuronal usando el wrapper KerasRegressor y usando como argumento build_fn en la función nn_model_params\n",
    "# para más detalles del wrapper puede ingresar al siguiente link https://faroit.com/keras-docs/1.2.2/scikit-learn-api/\n",
    "nn_model = KerasRegressor(build_fn=nn_model_params, verbose=0)\n",
    "\n",
    "# Definición método GridSearch para la calibración de parámetros definidos en nn_params\n",
    "gs = GridSearchCV(nn_model, nn_params, cv=3)\n",
    "gs.fit(X_train, Y_train)\n",
    "\n",
    "print('Los mejores parametros segun Grid Search:', gs.best_params_)"
   ]
  },
  {
   "cell_type": "markdown",
   "metadata": {
    "id": "_5XDq3VD-lht"
   },
   "source": [
    "## Método busqueda aleatoria (Randomized Search)\n",
    "\n",
    "La busqueda aleatoria es un método de calibración de parámetros donde se consideran combinaciones aleatorias de parámetros de un conjunto determinado."
   ]
  },
  {
   "cell_type": "code",
   "execution_count": null,
   "metadata": {
    "colab": {
     "base_uri": "https://localhost:8080/",
     "height": 674
    },
    "id": "69ZrV0OKCTlq",
    "outputId": "98052070-3f7b-4c84-f315-6c81b17d4462"
   },
   "outputs": [],
   "source": [
    "from sklearn.model_selection import RandomizedSearchCV\n",
    "\n",
    "# Definición de red neuronal usando el wrapper KerasRegressor y usando como argumento build_fn en la función nn_model_params\n",
    "nn_model = KerasRegressor(build_fn=nn_model_params, verbose=0)\n",
    "\n",
    "# Definición método GridSearch para la calibración de parámetros definidos en nn_params\n",
    "rs = RandomizedSearchCV(nn_model, param_distributions=nn_params, n_iter=5, cv=3)\n",
    "rs.fit(X_train, Y_train)\n",
    "\n",
    "print('Los mejores parametros segun Randomnized Search:', rs.best_params_)"
   ]
  },
  {
   "cell_type": "markdown",
   "metadata": {
    "id": "_opRoBB7RYfu"
   },
   "source": [
    "## Comparación de resultados\n",
    "En esta última sección se comparará el desempeño de la red neuronal en el set de test con la métrica del MSE, dados los parámetros calibrados que se obtuvieron en cada uno de los métodos."
   ]
  },
  {
   "cell_type": "code",
   "execution_count": null,
   "metadata": {
    "colab": {
     "base_uri": "https://localhost:8080/",
     "height": 654
    },
    "id": "jLfXdEiM1tzx",
    "outputId": "d9528a6e-9b15-49b6-ab0f-02c330adf963"
   },
   "outputs": [],
   "source": [
    "# Desempeño de modelo con los parametros de Grid Search\n",
    "model = nn_model_params(optimizer = 'adam',\n",
    "                        neurons=256,\n",
    "                        batch_size=64,\n",
    "                        epochs=50,\n",
    "                        activation='relu',\n",
    "                        patience=5,\n",
    "                        loss='mean_squared_error')\n",
    "scores = model.evaluate(X_test, Y_test, verbose=0)\n",
    "print(\"Valor de \", model.metrics_names[0] ,\" o MSE dados los parámetros de Grid Search:\", scores)"
   ]
  },
  {
   "cell_type": "code",
   "execution_count": null,
   "metadata": {
    "colab": {
     "base_uri": "https://localhost:8080/",
     "height": 654
    },
    "id": "kWzmoL6zNb5Y",
    "outputId": "d31af876-bd87-4d69-9c10-c85c2cf27836"
   },
   "outputs": [],
   "source": [
    "# Desempeño de modelo con los parametros de Randomized Search\n",
    "model = nn_model_params(optimizer = 'adam',\n",
    "                        neurons=256,\n",
    "                        batch_size=64,\n",
    "                        epochs=20,\n",
    "                        activation='relu',\n",
    "                        patience=5,\n",
    "                        loss='mean_squared_error')\n",
    "scores = model.evaluate(X_test, Y_test, verbose=0)\n",
    "print(\"Valor de \", model.metrics_names[0] ,\" o MSE dados los parámetros de Randomized Search:\", scores)"
   ]
  }
 ],
 "metadata": {
  "colab": {
   "collapsed_sections": [
    "gOGLBrdc94q8",
    "gJhBGPZZ99ME"
   ],
   "name": "S8LAB1_calibracion.ipynb",
   "provenance": []
  },
  "kernelspec": {
   "display_name": "Python 3",
   "language": "python",
   "name": "python3"
  },
  "language_info": {
   "codemirror_mode": {
    "name": "ipython",
    "version": 3
   },
   "file_extension": ".py",
   "mimetype": "text/x-python",
   "name": "python",
   "nbconvert_exporter": "python",
   "pygments_lexer": "ipython3",
   "version": "3.7.3"
  }
 },
 "nbformat": 4,
 "nbformat_minor": 1
}
